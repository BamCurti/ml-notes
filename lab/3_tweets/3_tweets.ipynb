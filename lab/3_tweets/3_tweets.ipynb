{
 "cells": [
  {
   "cell_type": "markdown",
   "metadata": {},
   "source": [
    "# Sentiment analysis in social media in Elections USA 2016: Clinton vs Trump"
   ]
  },
  {
   "cell_type": "code",
   "execution_count": 1,
   "metadata": {},
   "outputs": [],
   "source": [
    "import pandas as pd"
   ]
  },
  {
   "cell_type": "code",
   "execution_count": 3,
   "metadata": {},
   "outputs": [],
   "source": [
    "df = pd.read_csv('./tweets.csv')"
   ]
  },
  {
   "cell_type": "code",
   "execution_count": 5,
   "metadata": {},
   "outputs": [
    {
     "name": "stdout",
     "output_type": "stream",
     "text": [
      "<class 'pandas.core.frame.DataFrame'>\n",
      "RangeIndex: 6444 entries, 0 to 6443\n",
      "Data columns (total 28 columns):\n",
      " #   Column                   Non-Null Count  Dtype  \n",
      "---  ------                   --------------  -----  \n",
      " 0   id                       6444 non-null   int64  \n",
      " 1   handle                   6444 non-null   object \n",
      " 2   text                     6444 non-null   object \n",
      " 3   is_retweet               6444 non-null   bool   \n",
      " 4   original_author          722 non-null    object \n",
      " 5   time                     6444 non-null   object \n",
      " 6   in_reply_to_screen_name  208 non-null    object \n",
      " 7   in_reply_to_status_id    202 non-null    float64\n",
      " 8   in_reply_to_user_id      208 non-null    float64\n",
      " 9   is_quote_status          6444 non-null   bool   \n",
      " 10  lang                     6444 non-null   object \n",
      " 11  retweet_count            6444 non-null   int64  \n",
      " 12  favorite_count           6444 non-null   int64  \n",
      " 13  longitude                12 non-null     float64\n",
      " 14  latitude                 12 non-null     float64\n",
      " 15  place_id                 204 non-null    object \n",
      " 16  place_full_name          204 non-null    object \n",
      " 17  place_name               204 non-null    object \n",
      " 18  place_type               204 non-null    object \n",
      " 19  place_country_code       204 non-null    object \n",
      " 20  place_country            204 non-null    object \n",
      " 21  place_contained_within   204 non-null    object \n",
      " 22  place_attributes         204 non-null    object \n",
      " 23  place_bounding_box       204 non-null    object \n",
      " 24  source_url               6444 non-null   object \n",
      " 25  truncated                6444 non-null   bool   \n",
      " 26  entities                 6444 non-null   object \n",
      " 27  extended_entities        1348 non-null   object \n",
      "dtypes: bool(3), float64(4), int64(3), object(18)\n",
      "memory usage: 1.2+ MB\n"
     ]
    }
   ],
   "source": [
    "df.info()"
   ]
  },
  {
   "cell_type": "code",
   "execution_count": 7,
   "metadata": {},
   "outputs": [
    {
     "data": {
      "text/plain": [
       "6444"
      ]
     },
     "execution_count": 7,
     "metadata": {},
     "output_type": "execute_result"
    }
   ],
   "source": [
    "df."
   ]
  }
 ],
 "metadata": {
  "interpreter": {
   "hash": "33c47731e5c0269a930bc35e3b09cbb029a43ec2f78276dd74258da08c7305d6"
  },
  "kernelspec": {
   "display_name": "Python 3.9.1 ('venv': venv)",
   "language": "python",
   "name": "python3"
  },
  "language_info": {
   "codemirror_mode": {
    "name": "ipython",
    "version": 3
   },
   "file_extension": ".py",
   "mimetype": "text/x-python",
   "name": "python",
   "nbconvert_exporter": "python",
   "pygments_lexer": "ipython3",
   "version": "3.9.1"
  },
  "orig_nbformat": 4
 },
 "nbformat": 4,
 "nbformat_minor": 2
}
