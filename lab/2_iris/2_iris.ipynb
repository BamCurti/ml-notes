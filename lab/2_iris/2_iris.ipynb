{
 "cells": [
  {
   "cell_type": "markdown",
   "metadata": {},
   "source": [
    "# Iris Flower Classification\n",
    "Objective: Using the iris dataset, code and classifier using the Logistic Regression algorithm for the three types of flowers: Iris-Setosa, iris-versicolor and iris-virginica."
   ]
  },
  {
   "cell_type": "code",
   "execution_count": 16,
   "metadata": {},
   "outputs": [],
   "source": [
    "# Read data \n",
    "import pandas as pd\n",
    "import numpy as np\n",
    "df = pd.read_csv('./Iris.csv')"
   ]
  },
  {
   "cell_type": "code",
   "execution_count": 6,
   "metadata": {},
   "outputs": [],
   "source": [
    "# Preprocessing data\n",
    "# Before all, I will separate the target and the data\n",
    "X, y = df.drop('Species', axis=1), df.Species"
   ]
  },
  {
   "cell_type": "code",
   "execution_count": 7,
   "metadata": {},
   "outputs": [],
   "source": [
    "# Because I will use the logistic regression model, it is necessary to normalize the data.\n",
    "from sklearn.preprocessing import StandardScaler\n",
    "standard_scaler = StandardScaler()\n",
    "X = standard_scaler.fit_transform(X)"
   ]
  },
  {
   "cell_type": "markdown",
   "metadata": {},
   "source": [
    "## Generate test and training set (30-70, 50-50 and 70-30)."
   ]
  },
  {
   "cell_type": "code",
   "execution_count": 9,
   "metadata": {},
   "outputs": [],
   "source": [
    "\"\"\" Using train_test_split is a good idea, because shuffle and separate the data in percentage\"\"\"\n",
    "from sklearn.model_selection import train_test_split \n",
    "\n",
    "#Test size: 30%, training set: 70%\n",
    "X_train, X_test, y_train, y_test = train_test_split(X, y, test_size=0.3)\n",
    "\n",
    "#Test size: 50%, training set: 50%\n",
    "X_train_50, X_test_50, y_train_50, y_test_50 = train_test_split(X, y, test_size=0.5)\n",
    "\n",
    "#Test size: 70%, training set: 30%\n",
    "X_train_30, X_test_70, y_train_30, y_test_70 = train_test_split(X, y, test_size=0.7)\n"
   ]
  },
  {
   "cell_type": "code",
   "execution_count": 53,
   "metadata": {},
   "outputs": [],
   "source": [
    "from sklearn.linear_model import LogisticRegression\n",
    "from sklearn.model_selection import ShuffleSplit\n",
    "from sklearn.model_selection import cross_val_score\n",
    "\n",
    "log_reg = LogisticRegression()\n"
   ]
  },
  {
   "cell_type": "code",
   "execution_count": 66,
   "metadata": {},
   "outputs": [
    {
     "name": "stdout",
     "output_type": "stream",
     "text": [
      "Training the model with 70% of the data: 0.9977777777777778 accuracy, standard deviation of 0.006666666666666676\n"
     ]
    }
   ],
   "source": [
    "\"\"\"Training the model with 70% of the data.\"\"\"\n",
    "ss_70 = ShuffleSplit(test_size=0.3, random_state=101)\n",
    "score_70 = cross_val_score(log_reg, X, y, cv=ss_70)\n",
    "print(f\"Training the model with 70% of the data: {score_70.mean()} accuracy, standard deviation of {score_70.std()}\")"
   ]
  },
  {
   "cell_type": "code",
   "execution_count": 73,
   "metadata": {},
   "outputs": [
    {
     "name": "stdout",
     "output_type": "stream",
     "text": [
      "Training the model with 70% of the data: 0.992 accuracy, standard deviation of 0.010666666666666647\n"
     ]
    }
   ],
   "source": [
    "\"\"\"Training the model with 50% of the data.\"\"\"\n",
    "ss_50 = ShuffleSplit(test_size=0.5, random_state=101)\n",
    "score_50 = cross_val_score(log_reg, X, y, cv=ss_50)\n",
    "print(f\"Training the model with 50% of the data: {score_50.mean()} accuracy, standard deviation of {score_50.std()}\")"
   ]
  },
  {
   "cell_type": "code",
   "execution_count": 76,
   "metadata": {},
   "outputs": [
    {
     "name": "stdout",
     "output_type": "stream",
     "text": [
      "Training the model with 30% of the data: 0.9847619047619048 accuracy, standard deviation of 0.010605265453009573\n"
     ]
    }
   ],
   "source": [
    "\"\"\"Training the model with 30% of the data.\"\"\"\n",
    "ss_30 = ShuffleSplit(test_size=0.7, random_state=101)\n",
    "score_30 = cross_val_score(log_reg, X, y, cv=ss_30)\n",
    "print(f\"Training the model with 30% of the data: {score_30.mean()} accuracy, standard deviation of {score_30.std()}\")"
   ]
  },
  {
   "cell_type": "markdown",
   "metadata": {},
   "source": [
    "As we can see, the model that was trained with the 70% of the dataset was the most accurate."
   ]
  }
 ],
 "metadata": {
  "interpreter": {
   "hash": "33c47731e5c0269a930bc35e3b09cbb029a43ec2f78276dd74258da08c7305d6"
  },
  "kernelspec": {
   "display_name": "Python 3.9.1 ('venv': venv)",
   "language": "python",
   "name": "python3"
  },
  "language_info": {
   "codemirror_mode": {
    "name": "ipython",
    "version": 3
   },
   "file_extension": ".py",
   "mimetype": "text/x-python",
   "name": "python",
   "nbconvert_exporter": "python",
   "pygments_lexer": "ipython3",
   "version": "3.9.1"
  },
  "orig_nbformat": 4
 },
 "nbformat": 4,
 "nbformat_minor": 2
}
