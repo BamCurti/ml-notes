{
 "cells": [
  {
   "cell_type": "markdown",
   "metadata": {},
   "source": [
    "# Iris Flower Classification\n",
    "Objective: Using the iris dataset, code and classifier using the Logistic Regression algorithm for the three types of flowers: Iris-Setosa, iris-versicolor and iris-virginica."
   ]
  },
  {
   "cell_type": "code",
   "execution_count": 17,
   "metadata": {},
   "outputs": [],
   "source": [
    "# Read data \n",
    "import pandas as pd\n",
    "import numpy as np\n",
    "import seaborn as sns\n",
    "import matplotlib.pyplot as plt\n",
    "\n",
    "df = pd.read_csv('./Iris.csv')"
   ]
  },
  {
   "cell_type": "markdown",
   "metadata": {},
   "source": [
    "## Analyzing the data"
   ]
  },
  {
   "cell_type": "code",
   "execution_count": 18,
   "metadata": {},
   "outputs": [
    {
     "name": "stdout",
     "output_type": "stream",
     "text": [
      "<class 'pandas.core.frame.DataFrame'>\n",
      "RangeIndex: 150 entries, 0 to 149\n",
      "Data columns (total 6 columns):\n",
      " #   Column         Non-Null Count  Dtype  \n",
      "---  ------         --------------  -----  \n",
      " 0   Id             150 non-null    int64  \n",
      " 1   SepalLengthCm  150 non-null    float64\n",
      " 2   SepalWidthCm   150 non-null    float64\n",
      " 3   PetalLengthCm  150 non-null    float64\n",
      " 4   PetalWidthCm   150 non-null    float64\n",
      " 5   Species        150 non-null    object \n",
      "dtypes: float64(4), int64(1), object(1)\n",
      "memory usage: 7.2+ KB\n"
     ]
    }
   ],
   "source": [
    "df.info()"
   ]
  },
  {
   "cell_type": "code",
   "execution_count": 19,
   "metadata": {},
   "outputs": [
    {
     "data": {
      "text/html": [
       "<div>\n",
       "<style scoped>\n",
       "    .dataframe tbody tr th:only-of-type {\n",
       "        vertical-align: middle;\n",
       "    }\n",
       "\n",
       "    .dataframe tbody tr th {\n",
       "        vertical-align: top;\n",
       "    }\n",
       "\n",
       "    .dataframe thead th {\n",
       "        text-align: right;\n",
       "    }\n",
       "</style>\n",
       "<table border=\"1\" class=\"dataframe\">\n",
       "  <thead>\n",
       "    <tr style=\"text-align: right;\">\n",
       "      <th></th>\n",
       "      <th>count</th>\n",
       "      <th>mean</th>\n",
       "      <th>std</th>\n",
       "      <th>min</th>\n",
       "      <th>25%</th>\n",
       "      <th>50%</th>\n",
       "      <th>75%</th>\n",
       "      <th>max</th>\n",
       "    </tr>\n",
       "  </thead>\n",
       "  <tbody>\n",
       "    <tr>\n",
       "      <th>Id</th>\n",
       "      <td>150.0</td>\n",
       "      <td>75.500000</td>\n",
       "      <td>43.445368</td>\n",
       "      <td>1.0</td>\n",
       "      <td>38.25</td>\n",
       "      <td>75.50</td>\n",
       "      <td>112.75</td>\n",
       "      <td>150.0</td>\n",
       "    </tr>\n",
       "    <tr>\n",
       "      <th>SepalLengthCm</th>\n",
       "      <td>150.0</td>\n",
       "      <td>5.843333</td>\n",
       "      <td>0.828066</td>\n",
       "      <td>4.3</td>\n",
       "      <td>5.10</td>\n",
       "      <td>5.80</td>\n",
       "      <td>6.40</td>\n",
       "      <td>7.9</td>\n",
       "    </tr>\n",
       "    <tr>\n",
       "      <th>SepalWidthCm</th>\n",
       "      <td>150.0</td>\n",
       "      <td>3.054000</td>\n",
       "      <td>0.433594</td>\n",
       "      <td>2.0</td>\n",
       "      <td>2.80</td>\n",
       "      <td>3.00</td>\n",
       "      <td>3.30</td>\n",
       "      <td>4.4</td>\n",
       "    </tr>\n",
       "    <tr>\n",
       "      <th>PetalLengthCm</th>\n",
       "      <td>150.0</td>\n",
       "      <td>3.758667</td>\n",
       "      <td>1.764420</td>\n",
       "      <td>1.0</td>\n",
       "      <td>1.60</td>\n",
       "      <td>4.35</td>\n",
       "      <td>5.10</td>\n",
       "      <td>6.9</td>\n",
       "    </tr>\n",
       "    <tr>\n",
       "      <th>PetalWidthCm</th>\n",
       "      <td>150.0</td>\n",
       "      <td>1.198667</td>\n",
       "      <td>0.763161</td>\n",
       "      <td>0.1</td>\n",
       "      <td>0.30</td>\n",
       "      <td>1.30</td>\n",
       "      <td>1.80</td>\n",
       "      <td>2.5</td>\n",
       "    </tr>\n",
       "  </tbody>\n",
       "</table>\n",
       "</div>"
      ],
      "text/plain": [
       "               count       mean        std  min    25%    50%     75%    max\n",
       "Id             150.0  75.500000  43.445368  1.0  38.25  75.50  112.75  150.0\n",
       "SepalLengthCm  150.0   5.843333   0.828066  4.3   5.10   5.80    6.40    7.9\n",
       "SepalWidthCm   150.0   3.054000   0.433594  2.0   2.80   3.00    3.30    4.4\n",
       "PetalLengthCm  150.0   3.758667   1.764420  1.0   1.60   4.35    5.10    6.9\n",
       "PetalWidthCm   150.0   1.198667   0.763161  0.1   0.30   1.30    1.80    2.5"
      ]
     },
     "execution_count": 19,
     "metadata": {},
     "output_type": "execute_result"
    }
   ],
   "source": [
    "df.describe().T"
   ]
  },
  {
   "cell_type": "code",
   "execution_count": 20,
   "metadata": {},
   "outputs": [
    {
     "data": {
      "image/png": "[encoded data removed]",
      "text/plain": [
       "<Figure size 1080x720 with 2 Axes>"
      ]
     },
     "metadata": {
      "needs_background": "light"
     },
     "output_type": "display_data"
    }
   ],
   "source": [
    "plt.figure(figsize=(15,10))\n",
    "sns.heatmap(df.corr(), annot=True)\n",
    "plt.title('Visualizing correlations')\n",
    "plt.show()"
   ]
  },
  {
   "cell_type": "code",
   "execution_count": 55,
   "metadata": {},
   "outputs": [
    {
     "data": {
      "image/png": "[encoded data removed]",
      "text/plain": [
       "<Figure size 1080x360 with 4 Axes>"
      ]
     },
     "metadata": {
      "needs_background": "light"
     },
     "output_type": "display_data"
    }
   ],
   "source": [
    "%matplotlib inline\n",
    "fig, ax = plt.subplots(nrows= 1, ncols=4, figsize=(15, 5))\n",
    "index = 0\n",
    "ax = ax.flatten()\n",
    "\n",
    "for key, value in df.items():\n",
    "    if key not in ('Id', 'Species'):\n",
    "        sns.boxplot(y=key, data=df, ax=ax[index])\n",
    "        index += 1\n",
    "    \n",
    "plt.tight_layout(pad=0.4, w_pad=0.5, h_pad=5.0)"
   ]
  },
  {
   "cell_type": "code",
   "execution_count": 22,
   "metadata": {},
   "outputs": [],
   "source": [
    "# Preprocessing data\n",
    "# Before all, I will separate the target and the data\n",
    "X, y = df.drop(['Species', 'Id'], axis=1), df.Species"
   ]
  },
  {
   "cell_type": "code",
   "execution_count": 23,
   "metadata": {},
   "outputs": [],
   "source": [
    "# Because I will use the logistic regression model, it is necessary to normalize the data.\n",
    "from sklearn.preprocessing import StandardScaler\n",
    "standard_scaler = StandardScaler()\n",
    "X = standard_scaler.fit_transform(X)"
   ]
  },
  {
   "cell_type": "markdown",
   "metadata": {},
   "source": [
    "## Generate test and training set (30-70, 50-50 and 70-30)."
   ]
  },
  {
   "cell_type": "code",
   "execution_count": 24,
   "metadata": {},
   "outputs": [],
   "source": [
    "from sklearn.linear_model import LogisticRegression\n",
    "from sklearn.model_selection import train_test_split\n",
    "from sklearn.metrics import roc_auc_score "
   ]
  },
  {
   "cell_type": "code",
   "execution_count": 25,
   "metadata": {},
   "outputs": [
    {
     "name": "stdout",
     "output_type": "stream",
     "text": [
      "The score using 70% of the data for training is 97.77777777777777\n"
     ]
    }
   ],
   "source": [
    "\"\"\"Training the model with 70% of the data.\"\"\"\n",
    "X_train, X_test, y_train, y_test = train_test_split(X, y, train_size=0.7, random_state=101)\n",
    "log_reg = LogisticRegression()\n",
    "log_reg.fit(X_train, y_train)\n",
    "\n",
    "print(f'The score using 70% of the data for training is {log_reg.score(X_test, y_test) * 100}')"
   ]
  },
  {
   "cell_type": "code",
   "execution_count": 26,
   "metadata": {},
   "outputs": [
    {
     "name": "stdout",
     "output_type": "stream",
     "text": [
      "The score using 70% of the data for training is 97.33333333333334\n"
     ]
    }
   ],
   "source": [
    "\"\"\"Training the model with 70% of the data.\"\"\"\n",
    "X_train_50, X_test_50, y_train_50, y_test_50 = train_test_split(X, y, train_size=0.5, random_state=1)\n",
    "log_reg_50 = LogisticRegression()\n",
    "log_reg_50.fit(X_train_50, y_train_50)\n",
    "\n",
    "print(f'The score using 70% of the data for training is {log_reg_50.score(X_test_50, y_test_50) * 100}')\n"
   ]
  },
  {
   "cell_type": "code",
   "execution_count": 27,
   "metadata": {},
   "outputs": [
    {
     "name": "stdout",
     "output_type": "stream",
     "text": [
      "The score using 70% of the data for training is 93.33333333333333\n"
     ]
    }
   ],
   "source": [
    "\"\"\"Training the model with 70% of the data.\"\"\"\n",
    "X_train_30, X_test_70, y_train_30, y_test_70 = train_test_split(X, y, train_size=0.3, random_state=101)\n",
    "log_reg_30 = LogisticRegression()\n",
    "log_reg_30.fit(X_train_30, y_train_30)\n",
    "\n",
    "print(f'The score using 70% of the data for training is {log_reg_30.score(X_test_70, y_test_70) * 100}')\n"
   ]
  },
  {
   "cell_type": "markdown",
   "metadata": {},
   "source": [
    "As we can see, the model that was trained with the 70% of the data was the most accurate. So, in the following test, I will use the 70% of the data in the training phase."
   ]
  },
  {
   "cell_type": "markdown",
   "metadata": {},
   "source": [
    "## Try the classifier with only one of the variables."
   ]
  },
  {
   "cell_type": "code",
   "execution_count": 28,
   "metadata": {},
   "outputs": [],
   "source": [
    "#I'm separate the keys for better readability\n",
    "keys = df.keys()\n",
    "keys = keys.drop('Id')\n",
    "keys = keys.drop('Species')\n"
   ]
  },
  {
   "cell_type": "code",
   "execution_count": 43,
   "metadata": {},
   "outputs": [],
   "source": [
    "from itertools import combinations\n",
    "def training_comb(df, keys, n, penalty='l2', solver='lbfgs', l1_ratio=None) -> list:\n",
    "    \"\"\"Generate a logistic regression model and train it with the possibles combinations of the passed keys.\n",
    "\n",
    "    Args:\n",
    "        df (Pandas.DataFrame): The dataframe to extract the data.\n",
    "        keys (List[String]): The list of the keys to combine.\n",
    "        n (int): The number of elements to combine.\n",
    "\n",
    "    Returns:\n",
    "        list: Returns a list of tuples containing the name of the keys and the score.\n",
    "    \"\"\"\n",
    "    scores = []\n",
    "    \n",
    "    for key in combinations(keys, n):    \n",
    "    #Separate our feature from the dataset\n",
    "        X = df[list(key)]\n",
    "        \n",
    "        #Mix the data\n",
    "        X_train, X_test, y_train, y_test = train_test_split(X, y, train_size=0.7, random_state=101)\n",
    "\n",
    "        #Create the model\n",
    "        log_reg = LogisticRegression(penalty=penalty, solver=solver, l1_ratio=l1_ratio)\n",
    "        \n",
    "        #Train the model\n",
    "        log_reg.fit(X_train, y_train)\n",
    "        \n",
    "        #Appending the results to our scores list\n",
    "        scores.append((key, log_reg.score(X_test, y_test)))\n",
    "        \n",
    "    return scores\n",
    "    "
   ]
  },
  {
   "cell_type": "code",
   "execution_count": 37,
   "metadata": {},
   "outputs": [
    {
     "name": "stdout",
     "output_type": "stream",
     "text": [
      "Score using ('SepalLengthCm',): 71.11111111111111%\n",
      "Score using ('SepalWidthCm',): 60.0%\n",
      "Score using ('PetalLengthCm',): 97.77777777777777%\n",
      "Score using ('PetalWidthCm',): 93.33333333333333%\n"
     ]
    }
   ],
   "source": [
    "scores = training_comb(df, keys, 1)\n",
    "for key, score in scores:\n",
    "    print(f'Score using {key}: {score*100}%')"
   ]
  },
  {
   "cell_type": "markdown",
   "metadata": {},
   "source": [
    "As we can see, the two features that obtains better scores are the pental length and the petal width. This demostrate that the size of the petal is relationed with the specie."
   ]
  },
  {
   "cell_type": "markdown",
   "metadata": {},
   "source": [
    "## Try the classifier using all the combinations of the features"
   ]
  },
  {
   "cell_type": "markdown",
   "metadata": {},
   "source": [
    "### Using three features"
   ]
  },
  {
   "cell_type": "code",
   "execution_count": 31,
   "metadata": {},
   "outputs": [
    {
     "name": "stdout",
     "output_type": "stream",
     "text": [
      "Score using ('SepalLengthCm', 'SepalWidthCm'): 77.77777777777779%\n",
      "Score using ('SepalLengthCm', 'PetalLengthCm'): 97.77777777777777%\n",
      "Score using ('SepalLengthCm', 'PetalWidthCm'): 95.55555555555556%\n",
      "Score using ('SepalWidthCm', 'PetalLengthCm'): 97.77777777777777%\n",
      "Score using ('SepalWidthCm', 'PetalWidthCm'): 93.33333333333333%\n",
      "Score using ('PetalLengthCm', 'PetalWidthCm'): 97.77777777777777%\n"
     ]
    }
   ],
   "source": [
    "scores = training_comb(df, keys, 2)\n",
    "for key, score in scores:\n",
    "    print(f'Score using {key}: {score*100}%')\n"
   ]
  },
  {
   "cell_type": "markdown",
   "metadata": {},
   "source": [
    "### Using three features"
   ]
  },
  {
   "cell_type": "code",
   "execution_count": 32,
   "metadata": {},
   "outputs": [
    {
     "name": "stdout",
     "output_type": "stream",
     "text": [
      "Score using ('SepalLengthCm', 'SepalWidthCm', 'PetalLengthCm'): 97.77777777777777%\n",
      "Score using ('SepalLengthCm', 'SepalWidthCm', 'PetalWidthCm'): 95.55555555555556%\n",
      "Score using ('SepalLengthCm', 'PetalLengthCm', 'PetalWidthCm'): 97.77777777777777%\n",
      "Score using ('SepalWidthCm', 'PetalLengthCm', 'PetalWidthCm'): 97.77777777777777%\n"
     ]
    }
   ],
   "source": [
    "scores = training_comb(df, keys, 3)\n",
    "for key, score in scores:\n",
    "    print(f'Score using {key}: {score*100}%')"
   ]
  },
  {
   "cell_type": "markdown",
   "metadata": {},
   "source": [
    "As we can expect, using the petal size features will return better results than using the sepal size, reaching a 97% of accuracy. However, using only the length of the petal returns the same accuracy than using all the features. For that reason, we can conclude that the petal length is the most important feature, and maybe the only necessary feature."
   ]
  },
  {
   "cell_type": "markdown",
   "metadata": {},
   "source": [
    "## Try the classifier with all the penalities methods and without them."
   ]
  },
  {
   "cell_type": "code",
   "execution_count": 49,
   "metadata": {},
   "outputs": [
    {
     "name": "stdout",
     "output_type": "stream",
     "text": [
      "Score using l2: 97.77777777777777%\n",
      "Score using l1: 100.0%\n",
      "Score using elasticnet: 100.0%\n",
      "Score using none: 100.0%\n"
     ]
    },
    {
     "name": "stderr",
     "output_type": "stream",
     "text": [
      "d:\\iteso\\machine-learning\\workspace\\venv\\lib\\site-packages\\sklearn\\linear_model\\_sag.py:352: ConvergenceWarning: The max_iter was reached which means the coef_ did not converge\n",
      "  warnings.warn(\n",
      "d:\\iteso\\machine-learning\\workspace\\venv\\lib\\site-packages\\sklearn\\linear_model\\_sag.py:352: ConvergenceWarning: The max_iter was reached which means the coef_ did not converge\n",
      "  warnings.warn(\n"
     ]
    }
   ],
   "source": [
    "penalties = [\n",
    "    ('l2', 'lbfgs', None), \n",
    "    ('l1', 'saga', None), \n",
    "    ('elasticnet', 'saga', 0.5), \n",
    "    ('none', 'lbfgs', None)\n",
    "]\n",
    "\n",
    "for penalty, solver, l1_ratio in penalties:\n",
    "    key, score = training_comb(df, keys, 4, penalty=penalty, solver=solver, l1_ratio=l1_ratio)[0]\n",
    "    \n",
    "    print(f'Score using {penalty}: {score * 100}%')"
   ]
  }
 ],
 "metadata": {
  "interpreter": {
   "hash": "33c47731e5c0269a930bc35e3b09cbb029a43ec2f78276dd74258da08c7305d6"
  },
  "kernelspec": {
   "display_name": "Python 3.9.1 ('venv': venv)",
   "language": "python",
   "name": "python3"
  },
  "language_info": {
   "codemirror_mode": {
    "name": "ipython",
    "version": 3
   },
   "file_extension": ".py",
   "mimetype": "text/x-python",
   "name": "python",
   "nbconvert_exporter": "python",
   "pygments_lexer": "ipython3",
   "version": "3.9.1"
  },
  "orig_nbformat": 4
 },
 "nbformat": 4,
 "nbformat_minor": 2
}
