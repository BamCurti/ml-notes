{
 "cells": [
  {
   "cell_type": "markdown",
   "metadata": {},
   "source": [
    "# 4. Pokedex\n",
    "**Data extracted from [7,000 Labeled Pokemon](https://www.kaggle.com/datasets/lantian773030/pokemonclassification)**.\n",
    "\n",
    "The purpose of this project is to train multiple classifier models to recognize the first generacion of Pokemon, like the gadget called Pokedex from the anime/videogame.\n",
    "\n",
    "Answer this cuestions:\n",
    "1. What is the problem that you want to resolve? ¿Which questions do you expect to answer with this result?\n",
    "* I want to recreate the gadget from the videogame Pokemon, using a dataset of the first pokemon generation.\n",
    "2. What data is necessary and is available for resolving the problem? There is a dataset which you can use to? It is factible to generate and construct the dataset?\n",
    "* The dataset must be a collection of images of the first pokemon generation. The dataset is from **[this link](https://www.kaggle.com/datasets/lantian773030/pokemonclassification)**. If the ammount of image is not enough\n",
    "3. What kind of analisis do you try to resolve with this dataset?\n",
    "* A classification one.\n",
    "4. What result do you expect? What is the minimum percentage of success to consider an successful model?\n",
    "* I will consider a successful model a model with success ratio fo %80.\n",
    "\n",
    "## 0. From image to Image Embeddings\n",
    "In order to run this Jupyter Notebook, it's necessary to create the embeddings from the dataset. For that reason, follow the next steps before the next sections:\n",
    "1. Download the dataset from the link above and unzip the data into a folder called `data/labeled_pokemon`.\n",
    "2. Open the Orange file `dataset_generator.ows` and verify:\n",
    "    * The 'read images' module loads `data/labeled_pokemon`.\n",
    "    * The 'Save csv' module saves in `data/dataset.csv`.\n",
    "3. Run the Orange file.\n",
    "\n",
    "Once you have the dataset saved, you can use it in this jupyter notebook."
   ]
  },
  {
   "cell_type": "code",
   "execution_count": 7,
   "metadata": {},
   "outputs": [],
   "source": [
    "import pandas as pd\n",
    "import numpy as np\n",
    "import seaborn as sns\n",
    "import matplotlib.pyplot as plt"
   ]
  },
  {
   "cell_type": "markdown",
   "metadata": {},
   "source": [
    "## 1. Read Data"
   ]
  },
  {
   "cell_type": "code",
   "execution_count": 8,
   "metadata": {},
   "outputs": [],
   "source": [
    "df = pd.read_csv('./data/dataset.csv')"
   ]
  },
  {
   "cell_type": "markdown",
   "metadata": {},
   "source": [
    "## 2. Data Preprocessing"
   ]
  },
  {
   "cell_type": "code",
   "execution_count": 9,
   "metadata": {},
   "outputs": [
    {
     "data": {
      "text/html": [
       "<div>\n",
       "<style scoped>\n",
       "    .dataframe tbody tr th:only-of-type {\n",
       "        vertical-align: middle;\n",
       "    }\n",
       "\n",
       "    .dataframe tbody tr th {\n",
       "        vertical-align: top;\n",
       "    }\n",
       "\n",
       "    .dataframe thead th {\n",
       "        text-align: right;\n",
       "    }\n",
       "</style>\n",
       "<table border=\"1\" class=\"dataframe\">\n",
       "  <thead>\n",
       "    <tr style=\"text-align: right;\">\n",
       "      <th></th>\n",
       "      <th>count</th>\n",
       "      <th>mean</th>\n",
       "      <th>std</th>\n",
       "      <th>min</th>\n",
       "      <th>25%</th>\n",
       "      <th>50%</th>\n",
       "      <th>75%</th>\n",
       "      <th>max</th>\n",
       "    </tr>\n",
       "  </thead>\n",
       "  <tbody>\n",
       "    <tr>\n",
       "      <th>n0</th>\n",
       "      <td>6817.0</td>\n",
       "      <td>0.287901</td>\n",
       "      <td>0.235049</td>\n",
       "      <td>0.0</td>\n",
       "      <td>0.114780</td>\n",
       "      <td>0.229938</td>\n",
       "      <td>0.396214</td>\n",
       "      <td>1.882315e+00</td>\n",
       "    </tr>\n",
       "    <tr>\n",
       "      <th>n1</th>\n",
       "      <td>6817.0</td>\n",
       "      <td>0.208318</td>\n",
       "      <td>0.198762</td>\n",
       "      <td>0.0</td>\n",
       "      <td>0.075262</td>\n",
       "      <td>0.152767</td>\n",
       "      <td>0.276005</td>\n",
       "      <td>1.901746e+00</td>\n",
       "    </tr>\n",
       "    <tr>\n",
       "      <th>n2</th>\n",
       "      <td>6817.0</td>\n",
       "      <td>0.172583</td>\n",
       "      <td>0.216252</td>\n",
       "      <td>0.0</td>\n",
       "      <td>0.027973</td>\n",
       "      <td>0.098030</td>\n",
       "      <td>0.232473</td>\n",
       "      <td>2.111963e+00</td>\n",
       "    </tr>\n",
       "    <tr>\n",
       "      <th>n3</th>\n",
       "      <td>6817.0</td>\n",
       "      <td>0.318159</td>\n",
       "      <td>0.258037</td>\n",
       "      <td>0.0</td>\n",
       "      <td>0.125018</td>\n",
       "      <td>0.253430</td>\n",
       "      <td>0.445456</td>\n",
       "      <td>1.967986e+00</td>\n",
       "    </tr>\n",
       "    <tr>\n",
       "      <th>n4</th>\n",
       "      <td>6817.0</td>\n",
       "      <td>0.394518</td>\n",
       "      <td>0.254472</td>\n",
       "      <td>0.0</td>\n",
       "      <td>0.205306</td>\n",
       "      <td>0.349811</td>\n",
       "      <td>0.535109</td>\n",
       "      <td>1.977203e+00</td>\n",
       "    </tr>\n",
       "    <tr>\n",
       "      <th>...</th>\n",
       "      <td>...</td>\n",
       "      <td>...</td>\n",
       "      <td>...</td>\n",
       "      <td>...</td>\n",
       "      <td>...</td>\n",
       "      <td>...</td>\n",
       "      <td>...</td>\n",
       "      <td>...</td>\n",
       "    </tr>\n",
       "    <tr>\n",
       "      <th>n2046</th>\n",
       "      <td>6817.0</td>\n",
       "      <td>0.401140</td>\n",
       "      <td>0.372707</td>\n",
       "      <td>0.0</td>\n",
       "      <td>0.116903</td>\n",
       "      <td>0.294443</td>\n",
       "      <td>0.583472</td>\n",
       "      <td>2.810535e+00</td>\n",
       "    </tr>\n",
       "    <tr>\n",
       "      <th>n2047</th>\n",
       "      <td>6817.0</td>\n",
       "      <td>0.256555</td>\n",
       "      <td>0.278577</td>\n",
       "      <td>0.0</td>\n",
       "      <td>0.048833</td>\n",
       "      <td>0.165491</td>\n",
       "      <td>0.374958</td>\n",
       "      <td>2.252875e+00</td>\n",
       "    </tr>\n",
       "    <tr>\n",
       "      <th>size</th>\n",
       "      <td>6817.0</td>\n",
       "      <td>66466.247616</td>\n",
       "      <td>128202.460388</td>\n",
       "      <td>1817.0</td>\n",
       "      <td>15732.000000</td>\n",
       "      <td>31531.000000</td>\n",
       "      <td>78327.000000</td>\n",
       "      <td>4.579587e+06</td>\n",
       "    </tr>\n",
       "    <tr>\n",
       "      <th>width</th>\n",
       "      <td>6817.0</td>\n",
       "      <td>469.861963</td>\n",
       "      <td>343.178512</td>\n",
       "      <td>43.0</td>\n",
       "      <td>221.000000</td>\n",
       "      <td>354.000000</td>\n",
       "      <td>667.000000</td>\n",
       "      <td>5.000000e+03</td>\n",
       "    </tr>\n",
       "    <tr>\n",
       "      <th>height</th>\n",
       "      <td>6817.0</td>\n",
       "      <td>465.646765</td>\n",
       "      <td>334.964366</td>\n",
       "      <td>42.0</td>\n",
       "      <td>222.000000</td>\n",
       "      <td>353.000000</td>\n",
       "      <td>661.000000</td>\n",
       "      <td>4.356000e+03</td>\n",
       "    </tr>\n",
       "  </tbody>\n",
       "</table>\n",
       "<p>2051 rows × 8 columns</p>\n",
       "</div>"
      ],
      "text/plain": [
       "         count          mean            std     min           25%  \\\n",
       "n0      6817.0      0.287901       0.235049     0.0      0.114780   \n",
       "n1      6817.0      0.208318       0.198762     0.0      0.075262   \n",
       "n2      6817.0      0.172583       0.216252     0.0      0.027973   \n",
       "n3      6817.0      0.318159       0.258037     0.0      0.125018   \n",
       "n4      6817.0      0.394518       0.254472     0.0      0.205306   \n",
       "...        ...           ...            ...     ...           ...   \n",
       "n2046   6817.0      0.401140       0.372707     0.0      0.116903   \n",
       "n2047   6817.0      0.256555       0.278577     0.0      0.048833   \n",
       "size    6817.0  66466.247616  128202.460388  1817.0  15732.000000   \n",
       "width   6817.0    469.861963     343.178512    43.0    221.000000   \n",
       "height  6817.0    465.646765     334.964366    42.0    222.000000   \n",
       "\n",
       "                 50%           75%           max  \n",
       "n0          0.229938      0.396214  1.882315e+00  \n",
       "n1          0.152767      0.276005  1.901746e+00  \n",
       "n2          0.098030      0.232473  2.111963e+00  \n",
       "n3          0.253430      0.445456  1.967986e+00  \n",
       "n4          0.349811      0.535109  1.977203e+00  \n",
       "...              ...           ...           ...  \n",
       "n2046       0.294443      0.583472  2.810535e+00  \n",
       "n2047       0.165491      0.374958  2.252875e+00  \n",
       "size    31531.000000  78327.000000  4.579587e+06  \n",
       "width     354.000000    667.000000  5.000000e+03  \n",
       "height    353.000000    661.000000  4.356000e+03  \n",
       "\n",
       "[2051 rows x 8 columns]"
      ]
     },
     "execution_count": 9,
     "metadata": {},
     "output_type": "execute_result"
    }
   ],
   "source": [
    "df.describe().T"
   ]
  },
  {
   "cell_type": "code",
   "execution_count": 10,
   "metadata": {},
   "outputs": [
    {
     "data": {
      "text/plain": [
       "array(['Abra', 'Aerodactyl', 'Alakazam', 'Alolan Sandslash', 'Arbok',\n",
       "       'Arcanine', 'Articuno', 'Beedrill', 'Bellsprout', 'Blastoise',\n",
       "       'Bulbasaur', 'Butterfree', 'Caterpie', 'Chansey', 'Charizard',\n",
       "       'Charmander', 'Charmeleon', 'Clefable', 'Clefairy', 'Cloyster',\n",
       "       'Cubone', 'Dewgong', 'Diglett', 'Ditto', 'Dodrio', 'Doduo',\n",
       "       'Dragonair', 'Dragonite', 'Dratini', 'Drowzee', 'Dugtrio', 'Eevee',\n",
       "       'Ekans', 'Electabuzz', 'Electrode', 'Exeggcute', 'Exeggutor',\n",
       "       'Farfetchd', 'Fearow', 'Flareon', 'Gastly', 'Gengar', 'Geodude',\n",
       "       'Gloom', 'Golbat', 'Goldeen', 'Golduck', 'Golem', 'Graveler',\n",
       "       'Grimer', 'Growlithe', 'Gyarados', 'Haunter', 'Hitmonchan',\n",
       "       'Hitmonlee', 'Horsea', 'Hypno', 'Ivysaur', 'Jigglypuff', 'Jolteon',\n",
       "       'Jynx', 'Kabuto', 'Kabutops', 'Kadabra', 'Kakuna', 'Kangaskhan',\n",
       "       'Kingler', 'Koffing', 'Krabby', 'Lapras', 'Lickitung', 'Machamp',\n",
       "       'Machoke', 'Machop', 'Magikarp', 'Magmar', 'Magnemite', 'Magneton',\n",
       "       'Mankey', 'Marowak', 'Meowth', 'Metapod', 'Mew', 'Mewtwo',\n",
       "       'Moltres', 'MrMime', 'Muk', 'Nidoking', 'Nidoqueen', 'Nidorina',\n",
       "       'Nidorino', 'Ninetales', 'Oddish', 'Omanyte', 'Omastar', 'Onix',\n",
       "       'Paras', 'Parasect', 'Persian', 'Pidgeot', 'Pidgeotto', 'Pidgey',\n",
       "       'Pikachu', 'Pinsir', 'Poliwag', 'Poliwhirl', 'Poliwrath', 'Ponyta',\n",
       "       'Porygon', 'Primeape', 'Psyduck', 'Raichu', 'Rapidash', 'Raticate',\n",
       "       'Rattata', 'Rhydon', 'Rhyhorn', 'Sandshrew', 'Sandslash',\n",
       "       'Scyther', 'Seadra', 'Seaking', 'Seel', 'Shellder', 'Slowbro',\n",
       "       'Slowpoke', 'Snorlax', 'Spearow', 'Squirtle', 'Starmie', 'Staryu',\n",
       "       'Tangela', 'Tauros', 'Tentacool', 'Tentacruel', 'Vaporeon',\n",
       "       'Venomoth', 'Venonat', 'Venusaur', 'Victreebel', 'Vileplume',\n",
       "       'Voltorb', 'Vulpix', 'Wartortle', 'Weedle', 'Weepinbell',\n",
       "       'Weezing', 'Wigglytuff', 'Zapdos', 'Zubat'], dtype=object)"
      ]
     },
     "execution_count": 10,
     "metadata": {},
     "output_type": "execute_result"
    }
   ],
   "source": [
    "df['category'].unique()"
   ]
  },
  {
   "cell_type": "code",
   "execution_count": 16,
   "metadata": {},
   "outputs": [],
   "source": [
    "X, y = df.drop(['size', 'width', 'height', 'category', 'image', 'image name'], axis=1), df['category']"
   ]
  },
  {
   "cell_type": "code",
   "execution_count": 28,
   "metadata": {},
   "outputs": [],
   "source": [
    "from sklearn.preprocessing import LabelEncoder\n",
    "le = LabelEncoder()\n",
    "y = le.fit_transform(y)\n"
   ]
  },
  {
   "cell_type": "code",
   "execution_count": 17,
   "metadata": {},
   "outputs": [],
   "source": [
    "seed = 420\n",
    "from sklearn.model_selection import train_test_split\n",
    "X_train, X_test, y_train, y_test = train_test_split(X, y, test_size=0.2, random_state=seed)"
   ]
  },
  {
   "cell_type": "markdown",
   "metadata": {},
   "source": [
    "## 3. Model Creation"
   ]
  },
  {
   "cell_type": "code",
   "execution_count": 31,
   "metadata": {},
   "outputs": [],
   "source": [
    "from sklearn.tree import DecisionTreeClassifier\n",
    "tree = DecisionTreeClassifier()"
   ]
  },
  {
   "cell_type": "code",
   "execution_count": 32,
   "metadata": {},
   "outputs": [],
   "source": [
    "from sklearn.ensemble import RandomForestClassifier\n",
    "random_forest = RandomForestClassifier()\n"
   ]
  },
  {
   "cell_type": "code",
   "execution_count": 33,
   "metadata": {},
   "outputs": [],
   "source": [
    "from sklearn.neural_network import MLPClassifier\n",
    "neural_network = MLPClassifier()"
   ]
  },
  {
   "cell_type": "code",
   "execution_count": 34,
   "metadata": {},
   "outputs": [],
   "source": [
    "from sklearn.svm import SVC\n",
    "svm = SVC()"
   ]
  },
  {
   "cell_type": "markdown",
   "metadata": {},
   "source": [
    "## 4. Adjust Model with Historic Data"
   ]
  },
  {
   "cell_type": "code",
   "execution_count": 35,
   "metadata": {},
   "outputs": [
    {
     "data": {
      "text/plain": [
       "DecisionTreeClassifier()"
      ]
     },
     "execution_count": 35,
     "metadata": {},
     "output_type": "execute_result"
    }
   ],
   "source": [
    "tree.fit(X_train, y_train)"
   ]
  },
  {
   "cell_type": "code",
   "execution_count": 36,
   "metadata": {},
   "outputs": [
    {
     "data": {
      "text/plain": [
       "RandomForestClassifier()"
      ]
     },
     "execution_count": 36,
     "metadata": {},
     "output_type": "execute_result"
    }
   ],
   "source": [
    "random_forest.fit(X_train, y_train)"
   ]
  },
  {
   "cell_type": "code",
   "execution_count": 37,
   "metadata": {},
   "outputs": [
    {
     "data": {
      "text/plain": [
       "MLPClassifier()"
      ]
     },
     "execution_count": 37,
     "metadata": {},
     "output_type": "execute_result"
    }
   ],
   "source": [
    "neural_network.fit(X_train, y_train)"
   ]
  },
  {
   "cell_type": "code",
   "execution_count": 38,
   "metadata": {},
   "outputs": [
    {
     "data": {
      "text/plain": [
       "SVC()"
      ]
     },
     "execution_count": 38,
     "metadata": {},
     "output_type": "execute_result"
    }
   ],
   "source": [
    "svm.fit(X_train, y_train)"
   ]
  },
  {
   "cell_type": "markdown",
   "metadata": {},
   "source": [
    "## 5. Prediction for New Data"
   ]
  },
  {
   "cell_type": "code",
   "execution_count": 42,
   "metadata": {},
   "outputs": [],
   "source": [
    "tree_pred = tree.predict(X_test)"
   ]
  },
  {
   "cell_type": "code",
   "execution_count": 43,
   "metadata": {},
   "outputs": [],
   "source": [
    "random_forest_pred = random_forest.predict(X_test)"
   ]
  },
  {
   "cell_type": "code",
   "execution_count": 44,
   "metadata": {},
   "outputs": [],
   "source": [
    "neural_network_pred = neural_network.predict(X_test)"
   ]
  },
  {
   "cell_type": "code",
   "execution_count": 45,
   "metadata": {},
   "outputs": [],
   "source": [
    "svm_predict = svm.predict(X_test)"
   ]
  },
  {
   "cell_type": "markdown",
   "metadata": {},
   "source": [
    "## 6. Visualization of Results"
   ]
  },
  {
   "cell_type": "code",
   "execution_count": 46,
   "metadata": {},
   "outputs": [
    {
     "name": "stderr",
     "output_type": "stream",
     "text": [
      "d:\\iteso\\machine-learning\\workspace\\venv\\lib\\site-packages\\sklearn\\model_selection\\_split.py:676: UserWarning: The least populated class in y has only 2 members, which is less than n_splits=3.\n",
      "  warnings.warn(\n",
      "d:\\iteso\\machine-learning\\workspace\\venv\\lib\\site-packages\\sklearn\\model_selection\\_split.py:676: UserWarning: The least populated class in y has only 2 members, which is less than n_splits=3.\n",
      "  warnings.warn(\n",
      "d:\\iteso\\machine-learning\\workspace\\venv\\lib\\site-packages\\sklearn\\neural_network\\_multilayer_perceptron.py:692: ConvergenceWarning: Stochastic Optimizer: Maximum iterations (200) reached and the optimization hasn't converged yet.\n",
      "  warnings.warn(\n",
      "d:\\iteso\\machine-learning\\workspace\\venv\\lib\\site-packages\\sklearn\\neural_network\\_multilayer_perceptron.py:692: ConvergenceWarning: Stochastic Optimizer: Maximum iterations (200) reached and the optimization hasn't converged yet.\n",
      "  warnings.warn(\n",
      "d:\\iteso\\machine-learning\\workspace\\venv\\lib\\site-packages\\sklearn\\model_selection\\_split.py:676: UserWarning: The least populated class in y has only 2 members, which is less than n_splits=3.\n",
      "  warnings.warn(\n",
      "d:\\iteso\\machine-learning\\workspace\\venv\\lib\\site-packages\\sklearn\\model_selection\\_split.py:676: UserWarning: The least populated class in y has only 2 members, which is less than n_splits=3.\n",
      "  warnings.warn(\n"
     ]
    },
    {
     "name": "stdout",
     "output_type": "stream",
     "text": [
      "[0.057179971276887585, 0.3599522357231608, 0.2060124897129302, 0.17888528505268594]\n"
     ]
    }
   ],
   "source": [
    "from sklearn.model_selection import cross_val_score\n",
    "\n",
    "scores = [ \n",
    "    cross_val_score(tree, X_test , y_test, cv=3, scoring='accuracy').mean(), \n",
    "    cross_val_score(neural_network, X_test, y_test, cv=3, scoring='accuracy').mean(), \n",
    "    cross_val_score(svm, X_test, y_test, cv=3, scoring='accuracy').mean(), \n",
    "    cross_val_score(random_forest, X_test, y_test, cv=3, scoring='accuracy').mean(), \n",
    "]\n",
    "\n",
    "print(scores)"
   ]
  },
  {
   "cell_type": "code",
   "execution_count": null,
   "metadata": {},
   "outputs": [],
   "source": [
    "sns.heatmap()"
   ]
  }
 ],
 "metadata": {
  "interpreter": {
   "hash": "33c47731e5c0269a930bc35e3b09cbb029a43ec2f78276dd74258da08c7305d6"
  },
  "kernelspec": {
   "display_name": "Python 3.9.1 ('venv': venv)",
   "language": "python",
   "name": "python3"
  },
  "language_info": {
   "codemirror_mode": {
    "name": "ipython",
    "version": 3
   },
   "file_extension": ".py",
   "mimetype": "text/x-python",
   "name": "python",
   "nbconvert_exporter": "python",
   "pygments_lexer": "ipython3",
   "version": "3.9.1"
  },
  "orig_nbformat": 4
 },
 "nbformat": 4,
 "nbformat_minor": 2
}
