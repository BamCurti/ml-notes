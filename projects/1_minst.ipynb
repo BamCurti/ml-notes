{
 "cells": [
  {
   "cell_type": "markdown",
   "metadata": {},
   "source": [
    "# MNIST\n",
    "The objective of this project is to use different algorithms from Sklearn and Tensorflow to identify hand-written digits, training our models using the MNIST dataset."
   ]
  },
  {
   "cell_type": "markdown",
   "metadata": {},
   "source": [
    "## 1. Read Data"
   ]
  },
  {
   "cell_type": "code",
   "execution_count": 1,
   "metadata": {},
   "outputs": [],
   "source": [
    "#Before all, lets get the dataset from sklean dataset db.\n",
    "from sklearn.datasets import fetch_openml\n",
    "import numpy as np\n",
    "mnist = fetch_openml('mnist_784')"
   ]
  },
  {
   "cell_type": "code",
   "execution_count": 2,
   "metadata": {},
   "outputs": [
    {
     "data": {
      "text/plain": [
       "dict_keys(['data', 'target', 'frame', 'categories', 'feature_names', 'target_names', 'DESCR', 'details', 'url'])"
      ]
     },
     "execution_count": 2,
     "metadata": {},
     "output_type": "execute_result"
    }
   ],
   "source": [
    "#to know how is structured the dataset\n",
    "mnist.keys()"
   ]
  },
  {
   "cell_type": "markdown",
   "metadata": {},
   "source": [
    "## 2. Data Preprocessing"
   ]
  },
  {
   "cell_type": "code",
   "execution_count": 2,
   "metadata": {},
   "outputs": [],
   "source": [
    "#First, is necessary to separate the image from the target\n",
    "X, y = mnist['data'], mnist['target']"
   ]
  },
  {
   "cell_type": "code",
   "execution_count": 3,
   "metadata": {},
   "outputs": [],
   "source": [
    "#know, let's separate the training set from the validation set\n",
    "from sklearn.model_selection import train_test_split\n",
    "X_train, X_test, y_train, y_test = X[:6000], X[6000:], y[:6000], y[6000:]"
   ]
  },
  {
   "cell_type": "code",
   "execution_count": 4,
   "metadata": {},
   "outputs": [],
   "source": [
    "#For some algorithms, it is recommended to scale first the data\n",
    "from sklearn.preprocessing import StandardScaler\n",
    "scaler = StandardScaler()\n",
    "X_train_scaled = scaler.fit_transform(X_train)\n",
    "X_test_scaled = scaler.fit_transform(X_test)"
   ]
  },
  {
   "cell_type": "code",
   "execution_count": 24,
   "metadata": {},
   "outputs": [
    {
     "ename": "AttributeError",
     "evalue": "'Series' object has no attribute 'rescale'",
     "output_type": "error",
     "traceback": [
      "\u001b[1;31m---------------------------------------------------------------------------\u001b[0m",
      "\u001b[1;31mAttributeError\u001b[0m                            Traceback (most recent call last)",
      "\u001b[1;32md:\\iteso\\machine-learning\\workspace\\projects\\1_minst.ipynb Cell 9'\u001b[0m in \u001b[0;36m<module>\u001b[1;34m\u001b[0m\n\u001b[0;32m      <a href='vscode-notebook-cell:/d%3A/iteso/machine-learning/workspace/projects/1_minst.ipynb#ch0000036?line=1'>2</a>\u001b[0m i \u001b[39m=\u001b[39m \u001b[39m0\u001b[39m\n\u001b[0;32m      <a href='vscode-notebook-cell:/d%3A/iteso/machine-learning/workspace/projects/1_minst.ipynb#ch0000036?line=2'>3</a>\u001b[0m some_x, some_y\u001b[39m=\u001b[39m X\u001b[39m.\u001b[39mtranspose()[i], y[i]\n\u001b[1;32m----> <a href='vscode-notebook-cell:/d%3A/iteso/machine-learning/workspace/projects/1_minst.ipynb#ch0000036?line=3'>4</a>\u001b[0m some_x\u001b[39m.\u001b[39;49mrescale(\u001b[39m28\u001b[39m, \u001b[39m28\u001b[39m)\n\u001b[0;32m      <a href='vscode-notebook-cell:/d%3A/iteso/machine-learning/workspace/projects/1_minst.ipynb#ch0000036?line=4'>5</a>\u001b[0m \u001b[39mprint\u001b[39m(some_y)\n\u001b[0;32m      <a href='vscode-notebook-cell:/d%3A/iteso/machine-learning/workspace/projects/1_minst.ipynb#ch0000036?line=5'>6</a>\u001b[0m plt\u001b[39m.\u001b[39mimshow(some_x)\n",
      "File \u001b[1;32mD:\\iteso\\machine-learning\\workspace\\venv\\lib\\site-packages\\pandas\\core\\generic.py:5487\u001b[0m, in \u001b[0;36mNDFrame.__getattr__\u001b[1;34m(self, name)\u001b[0m\n\u001b[0;32m   <a href='file:///d%3A/iteso/machine-learning/workspace/venv/lib/site-packages/pandas/core/generic.py?line=5479'>5480</a>\u001b[0m \u001b[39mif\u001b[39;00m (\n\u001b[0;32m   <a href='file:///d%3A/iteso/machine-learning/workspace/venv/lib/site-packages/pandas/core/generic.py?line=5480'>5481</a>\u001b[0m     name \u001b[39mnot\u001b[39;00m \u001b[39min\u001b[39;00m \u001b[39mself\u001b[39m\u001b[39m.\u001b[39m_internal_names_set\n\u001b[0;32m   <a href='file:///d%3A/iteso/machine-learning/workspace/venv/lib/site-packages/pandas/core/generic.py?line=5481'>5482</a>\u001b[0m     \u001b[39mand\u001b[39;00m name \u001b[39mnot\u001b[39;00m \u001b[39min\u001b[39;00m \u001b[39mself\u001b[39m\u001b[39m.\u001b[39m_metadata\n\u001b[0;32m   <a href='file:///d%3A/iteso/machine-learning/workspace/venv/lib/site-packages/pandas/core/generic.py?line=5482'>5483</a>\u001b[0m     \u001b[39mand\u001b[39;00m name \u001b[39mnot\u001b[39;00m \u001b[39min\u001b[39;00m \u001b[39mself\u001b[39m\u001b[39m.\u001b[39m_accessors\n\u001b[0;32m   <a href='file:///d%3A/iteso/machine-learning/workspace/venv/lib/site-packages/pandas/core/generic.py?line=5483'>5484</a>\u001b[0m     \u001b[39mand\u001b[39;00m \u001b[39mself\u001b[39m\u001b[39m.\u001b[39m_info_axis\u001b[39m.\u001b[39m_can_hold_identifiers_and_holds_name(name)\n\u001b[0;32m   <a href='file:///d%3A/iteso/machine-learning/workspace/venv/lib/site-packages/pandas/core/generic.py?line=5484'>5485</a>\u001b[0m ):\n\u001b[0;32m   <a href='file:///d%3A/iteso/machine-learning/workspace/venv/lib/site-packages/pandas/core/generic.py?line=5485'>5486</a>\u001b[0m     \u001b[39mreturn\u001b[39;00m \u001b[39mself\u001b[39m[name]\n\u001b[1;32m-> <a href='file:///d%3A/iteso/machine-learning/workspace/venv/lib/site-packages/pandas/core/generic.py?line=5486'>5487</a>\u001b[0m \u001b[39mreturn\u001b[39;00m \u001b[39mobject\u001b[39;49m\u001b[39m.\u001b[39;49m\u001b[39m__getattribute__\u001b[39;49m(\u001b[39mself\u001b[39;49m, name)\n",
      "\u001b[1;31mAttributeError\u001b[0m: 'Series' object has no attribute 'rescale'"
     ]
    }
   ],
   "source": [
    "import matplotlib as plt\n",
    "i = 0\n",
    "some_x, some_y= X.transpose()[i], y[i]\n",
    "some_x.rescale(28, 28)\n",
    "print(some_y)\n",
    "plt.imshow(some_x)"
   ]
  },
  {
   "cell_type": "markdown",
   "metadata": {},
   "source": [
    "## 3. Model Creation\n",
    "For this project, we will be comparing the next algorithms:"
   ]
  },
  {
   "cell_type": "code",
   "execution_count": 5,
   "metadata": {},
   "outputs": [],
   "source": [
    "#Logistic Regression\n",
    "#extrated from https://scikit-learn.org/stable/auto_examples/linear_model/plot_sparse_logistic_regression_mnist.html\n",
    "from sklearn.linear_model import LogisticRegression\n",
    "#Let's create a scaled model from our scaled dataset\n",
    "log_reg = LogisticRegression(C=50.0 / 5000, penalty='l1', solver='saga', tol=0.1, max_iter=1000)"
   ]
  },
  {
   "cell_type": "code",
   "execution_count": 6,
   "metadata": {},
   "outputs": [],
   "source": [
    "#SVM\n",
    "#extracted from https://dmkothari.github.io/Machine-Learning-Projects/SVM_with_MNIST.html\n",
    "from sklearn.svm import SVC\n",
    "svm = SVC()"
   ]
  },
  {
   "cell_type": "code",
   "execution_count": 8,
   "metadata": {},
   "outputs": [],
   "source": [
    "#Random Forest\n",
    "#extracted from https://www.kaggle.com/ashwani07/mnist-classification-using-random-forest\n",
    "from sklearn.ensemble import RandomForestClassifier\n",
    "rf = RandomForestClassifier(n_estimators=100)"
   ]
  },
  {
   "cell_type": "code",
   "execution_count": 9,
   "metadata": {},
   "outputs": [],
   "source": [
    "#Neural Network (MPL)\n",
    "#exctracted from https://dmkothari.github.io/Machine-Learning-Projects/MLP_with_MNIST.html\n",
    "from sklearn.neural_network import MLPClassifier\n",
    "mpl = MLPClassifier()"
   ]
  },
  {
   "cell_type": "code",
   "execution_count": null,
   "metadata": {},
   "outputs": [],
   "source": [
    "#CNN\n"
   ]
  },
  {
   "cell_type": "markdown",
   "metadata": {},
   "source": [
    "## 4. Adjust Model with Historic Data"
   ]
  },
  {
   "cell_type": "code",
   "execution_count": 10,
   "metadata": {},
   "outputs": [
    {
     "data": {
      "text/plain": [
       "LogisticRegression(C=0.01, max_iter=1000, penalty='l1', solver='saga', tol=0.1)"
      ]
     },
     "execution_count": 10,
     "metadata": {},
     "output_type": "execute_result"
    }
   ],
   "source": [
    "#Logistic Regression\n",
    "log_reg.fit(X_train_scaled, y_train)"
   ]
  },
  {
   "cell_type": "code",
   "execution_count": 11,
   "metadata": {},
   "outputs": [
    {
     "data": {
      "text/plain": [
       "SVC()"
      ]
     },
     "execution_count": 11,
     "metadata": {},
     "output_type": "execute_result"
    }
   ],
   "source": [
    "#SVM\n",
    "svm.fit(X_train, y_train)"
   ]
  },
  {
   "cell_type": "code",
   "execution_count": 12,
   "metadata": {},
   "outputs": [
    {
     "data": {
      "text/plain": [
       "RandomForestClassifier()"
      ]
     },
     "execution_count": 12,
     "metadata": {},
     "output_type": "execute_result"
    }
   ],
   "source": [
    "#Random Forest\n",
    "rf.fit(X_train, y_train)"
   ]
  },
  {
   "cell_type": "code",
   "execution_count": 13,
   "metadata": {},
   "outputs": [
    {
     "data": {
      "text/plain": [
       "MLPClassifier()"
      ]
     },
     "execution_count": 13,
     "metadata": {},
     "output_type": "execute_result"
    }
   ],
   "source": [
    "#MPL\n",
    "mpl.fit(X_train, y_train)"
   ]
  },
  {
   "cell_type": "code",
   "execution_count": null,
   "metadata": {},
   "outputs": [],
   "source": [
    "#CNN"
   ]
  },
  {
   "cell_type": "markdown",
   "metadata": {},
   "source": [
    "## 5. Prediction for new Data"
   ]
  },
  {
   "cell_type": "code",
   "execution_count": null,
   "metadata": {},
   "outputs": [],
   "source": [
    "#things i will use on this section\n",
    "from sklearn.metrics import classification_report\n",
    "from sklearn.metrics import accuracy_score"
   ]
  },
  {
   "cell_type": "code",
   "execution_count": 15,
   "metadata": {},
   "outputs": [
    {
     "name": "stdout",
     "output_type": "stream",
     "text": [
      "Logistic Regression score: 0.831765625\n"
     ]
    }
   ],
   "source": [
    "#Logistic Regression\n",
    "log_reg_score = log_reg.score(X_test_scaled, y_test)\n",
    "print(f\"Logistic Regression score: {log_reg_score}\")"
   ]
  },
  {
   "cell_type": "code",
   "execution_count": 19,
   "metadata": {},
   "outputs": [
    {
     "name": "stdout",
     "output_type": "stream",
     "text": [
      "              precision    recall  f1-score   support\n",
      "\n",
      "           0       0.97      0.98      0.98      6311\n",
      "           1       0.97      0.98      0.98      7206\n",
      "           2       0.94      0.95      0.95      6409\n",
      "           3       0.95      0.93      0.94      6533\n",
      "           4       0.93      0.96      0.95      6201\n",
      "           5       0.94      0.93      0.94      5799\n",
      "           6       0.97      0.97      0.97      6268\n",
      "           7       0.96      0.95      0.96      6642\n",
      "           8       0.95      0.93      0.94      6274\n",
      "           9       0.93      0.93      0.93      6357\n",
      "\n",
      "    accuracy                           0.95     64000\n",
      "   macro avg       0.95      0.95      0.95     64000\n",
      "weighted avg       0.95      0.95      0.95     64000\n",
      "\n"
     ]
    }
   ],
   "source": [
    "#SVM\n",
    "svm_pred = svm.predict(X_test)\n",
    "svm_score = classification_report(y_test, svm_pred)\n",
    "print(svm_score)"
   ]
  },
  {
   "cell_type": "code",
   "execution_count": 17,
   "metadata": {},
   "outputs": [
    {
     "name": "stdout",
     "output_type": "stream",
     "text": [
      "              precision    recall  f1-score   support\n",
      "\n",
      "           0       0.96      0.97      0.97      6311\n",
      "           1       0.97      0.98      0.97      7206\n",
      "           2       0.93      0.93      0.93      6409\n",
      "           3       0.93      0.91      0.92      6533\n",
      "           4       0.93      0.94      0.94      6201\n",
      "           5       0.94      0.91      0.92      5799\n",
      "           6       0.95      0.96      0.96      6268\n",
      "           7       0.94      0.94      0.94      6642\n",
      "           8       0.93      0.89      0.91      6274\n",
      "           9       0.90      0.92      0.91      6357\n",
      "\n",
      "    accuracy                           0.94     64000\n",
      "   macro avg       0.94      0.94      0.94     64000\n",
      "weighted avg       0.94      0.94      0.94     64000\n",
      "\n"
     ]
    }
   ],
   "source": [
    "#Random Forest\n",
    "rd_pred = rf.predict(X_test)\n",
    "rd_score = classification_report(y_test, rd_pred)\n",
    "print(rd_score)"
   ]
  },
  {
   "cell_type": "code",
   "execution_count": 20,
   "metadata": {},
   "outputs": [
    {
     "name": "stdout",
     "output_type": "stream",
     "text": [
      "              precision    recall  f1-score   support\n",
      "\n",
      "           0       0.96      0.97      0.97      6311\n",
      "           1       0.97      0.98      0.97      7206\n",
      "           2       0.93      0.93      0.93      6409\n",
      "           3       0.93      0.91      0.92      6533\n",
      "           4       0.93      0.94      0.94      6201\n",
      "           5       0.94      0.91      0.92      5799\n",
      "           6       0.95      0.96      0.96      6268\n",
      "           7       0.94      0.94      0.94      6642\n",
      "           8       0.93      0.89      0.91      6274\n",
      "           9       0.90      0.92      0.91      6357\n",
      "\n",
      "    accuracy                           0.94     64000\n",
      "   macro avg       0.94      0.94      0.94     64000\n",
      "weighted avg       0.94      0.94      0.94     64000\n",
      "\n"
     ]
    }
   ],
   "source": [
    "#MPL\n",
    "mpl_pred = mpl.predict(X_test)\n",
    "mpl_score = classification_report(y_test, rd_pred)\n",
    "print(rd_score)"
   ]
  },
  {
   "cell_type": "code",
   "execution_count": null,
   "metadata": {},
   "outputs": [],
   "source": [
    "#CNN"
   ]
  },
  {
   "cell_type": "markdown",
   "metadata": {},
   "source": [
    "## 6. Visualization of Results"
   ]
  },
  {
   "cell_type": "code",
   "execution_count": null,
   "metadata": {},
   "outputs": [],
   "source": []
  }
 ],
 "metadata": {
  "interpreter": {
   "hash": "c09115f110084a8e845130ccb938590d6916cbbd2b10408cc128a9154701988f"
  },
  "kernelspec": {
   "display_name": "Python 3.9.1 ('venv': venv)",
   "language": "python",
   "name": "python3"
  },
  "language_info": {
   "codemirror_mode": {
    "name": "ipython",
    "version": 3
   },
   "file_extension": ".py",
   "mimetype": "text/x-python",
   "name": "python",
   "nbconvert_exporter": "python",
   "pygments_lexer": "ipython3",
   "version": "3.9.1"
  },
  "orig_nbformat": 4
 },
 "nbformat": 4,
 "nbformat_minor": 2
}
