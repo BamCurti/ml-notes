{
 "cells": [
  {
   "cell_type": "markdown",
   "metadata": {},
   "source": [
    "# MNIST\n",
    "The objective of this project is to use different algorithms from Sklearn and Tensorflow to identify hand-written digits, training our models using the MNIST dataset."
   ]
  },
  {
   "cell_type": "markdown",
   "metadata": {},
   "source": [
    "## 1. Read Data"
   ]
  },
  {
   "cell_type": "code",
   "execution_count": 1,
   "metadata": {},
   "outputs": [],
   "source": [
    "#Before all, lets get the dataset from sklean dataset db.\n",
    "from sklearn.datasets import fetch_openml\n",
    "mnist = fetch_openml('mnist_784')"
   ]
  },
  {
   "cell_type": "code",
   "execution_count": 2,
   "metadata": {},
   "outputs": [
    {
     "data": {
      "text/plain": [
       "dict_keys(['data', 'target', 'frame', 'categories', 'feature_names', 'target_names', 'DESCR', 'details', 'url'])"
      ]
     },
     "execution_count": 2,
     "metadata": {},
     "output_type": "execute_result"
    }
   ],
   "source": [
    "#to know how is structured the dataset\n",
    "mnist.keys()"
   ]
  },
  {
   "cell_type": "markdown",
   "metadata": {},
   "source": [
    "## 2. Data Preprocessing"
   ]
  },
  {
   "cell_type": "code",
   "execution_count": 2,
   "metadata": {},
   "outputs": [],
   "source": [
    "#First, is necessary to separate the image from the target\n",
    "X, y = mnist['data'], mnist['target']"
   ]
  },
  {
   "cell_type": "code",
   "execution_count": 3,
   "metadata": {},
   "outputs": [],
   "source": [
    "#know, let's separate the training set from the validation set\n",
    "X_train, X_test, y_train, y_test = X[:6000], X[6000:], y[:6000], y[6000:]"
   ]
  },
  {
   "cell_type": "code",
   "execution_count": 4,
   "metadata": {},
   "outputs": [],
   "source": [
    "X_train_scaled = X_train / 255\n",
    "X_test_scaled = X_test / 255"
   ]
  },
  {
   "cell_type": "code",
   "execution_count": 18,
   "metadata": {},
   "outputs": [],
   "source": [
    "#For DL, it is necessary to reshape the df\n",
    "X_train_reshape = X_train.values.reshape(X_train.shape[0], 28, 28, 1)\n",
    "X_test_reshape = X_test.values.reshape(X_test.shape[0], 28, 28, 1)\n",
    "\n",
    "X_train_reshape = X_train_reshape.astype('float32')\n",
    "X_test_reshape = X_test_reshape.astype('float32')\n",
    "\n",
    "X_train_reshape /= 255\n",
    "X_test_reshape /= 255"
   ]
  },
  {
   "cell_type": "markdown",
   "metadata": {},
   "source": [
    "## 3. Model Creation\n",
    "For this project, we will be comparing the next algorithms:"
   ]
  },
  {
   "cell_type": "code",
   "execution_count": 5,
   "metadata": {},
   "outputs": [],
   "source": [
    "#Logistic Regression\n",
    "#extrated from https://scikit-learn.org/stable/auto_examples/linear_model/plot_sparse_logistic_regression_mnist.html\n",
    "from sklearn.linear_model import LogisticRegression\n",
    "#Let's create a scaled model from our scaled dataset\n",
    "log_reg = LogisticRegression(C=50.0 / 5000, penalty='l1', solver='saga', tol=0.1, max_iter=1000)"
   ]
  },
  {
   "cell_type": "code",
   "execution_count": 6,
   "metadata": {},
   "outputs": [],
   "source": [
    "#SVM\n",
    "#extracted from https://dmkothari.github.io/Machine-Learning-Projects/SVM_with_MNIST.html\n",
    "from sklearn.svm import SVC\n",
    "svm = SVC()"
   ]
  },
  {
   "cell_type": "code",
   "execution_count": 7,
   "metadata": {},
   "outputs": [],
   "source": [
    "#Random Forest\n",
    "#extracted from https://www.kaggle.com/ashwani07/mnist-classification-using-random-forest\n",
    "from sklearn.ensemble import RandomForestClassifier\n",
    "rf = RandomForestClassifier(n_estimators=100)"
   ]
  },
  {
   "cell_type": "code",
   "execution_count": 8,
   "metadata": {},
   "outputs": [],
   "source": [
    "#Neural Network (MPL)\n",
    "#exctracted from https://dmkothari.github.io/Machine-Learning-Projects/MLP_with_MNIST.html\n",
    "from sklearn.neural_network import MLPClassifier\n",
    "mpl = MLPClassifier()"
   ]
  },
  {
   "cell_type": "code",
   "execution_count": 19,
   "metadata": {},
   "outputs": [],
   "source": [
    "#CNN\n",
    "#extracted from https://towardsdatascience.com/image-classification-in-10-minutes-with-mnist-dataset-54c35b77a38d\n",
    "from tensorflow.keras.models import Sequential\n",
    "from tensorflow.keras.layers import Dense, Conv2D, Dropout, Flatten, MaxPooling2D\n",
    "import tensorflow as tf\n",
    "\n",
    "cnn = Sequential()\n",
    "cnn.add(Conv2D(28, kernel_size=(3,3), input_shape=(28,28,1))) #para interpretar matrices de 28x28\n",
    "cnn.add(MaxPooling2D(pool_size=(2,2)))\n",
    "cnn.add(Flatten())\n",
    "cnn.add(Dense(128, activation=tf.nn.relu))\n",
    "cnn.add(Dropout(0.2))\n",
    "cnn.add(Dense(10, activation=tf.nn.softmax))"
   ]
  },
  {
   "cell_type": "markdown",
   "metadata": {},
   "source": [
    "## 4. Adjust Model with Historic Data"
   ]
  },
  {
   "cell_type": "code",
   "execution_count": 9,
   "metadata": {},
   "outputs": [
    {
     "data": {
      "text/plain": [
       "LogisticRegression(C=0.01, max_iter=1000, penalty='l1', solver='saga', tol=0.1)"
      ]
     },
     "execution_count": 9,
     "metadata": {},
     "output_type": "execute_result"
    }
   ],
   "source": [
    "#Logistic Regression\n",
    "log_reg.fit(X_train_scaled, y_train)"
   ]
  },
  {
   "cell_type": "code",
   "execution_count": 10,
   "metadata": {},
   "outputs": [
    {
     "data": {
      "text/plain": [
       "SVC()"
      ]
     },
     "execution_count": 10,
     "metadata": {},
     "output_type": "execute_result"
    }
   ],
   "source": [
    "#SVM\n",
    "svm.fit(X_train, y_train)"
   ]
  },
  {
   "cell_type": "code",
   "execution_count": 11,
   "metadata": {},
   "outputs": [
    {
     "data": {
      "text/plain": [
       "RandomForestClassifier()"
      ]
     },
     "execution_count": 11,
     "metadata": {},
     "output_type": "execute_result"
    }
   ],
   "source": [
    "#Random Forest\n",
    "rf.fit(X_train, y_train)"
   ]
  },
  {
   "cell_type": "code",
   "execution_count": 12,
   "metadata": {},
   "outputs": [
    {
     "data": {
      "text/plain": [
       "MLPClassifier()"
      ]
     },
     "execution_count": 12,
     "metadata": {},
     "output_type": "execute_result"
    }
   ],
   "source": [
    "#MPL\n",
    "mpl.fit(X_train, y_train)"
   ]
  },
  {
   "cell_type": "code",
   "execution_count": null,
   "metadata": {},
   "outputs": [],
   "source": [
    "#CNN\n",
    "cnn.compile(optimizer ='adam',\n",
    "            loss='sparse_categorical_crossentropy',\n",
    "            metrics=['accuracy'])\n",
    "cnn.fit(x=X_train_reshape, y=y_train, epochs=10)"
   ]
  },
  {
   "cell_type": "markdown",
   "metadata": {},
   "source": [
    "## 5. Prediction for new Data"
   ]
  },
  {
   "cell_type": "code",
   "execution_count": 13,
   "metadata": {},
   "outputs": [],
   "source": [
    "#things i will use on this section\n",
    "from sklearn.metrics import classification_report\n",
    "from sklearn.metrics import accuracy_score"
   ]
  },
  {
   "cell_type": "code",
   "execution_count": 14,
   "metadata": {},
   "outputs": [
    {
     "name": "stdout",
     "output_type": "stream",
     "text": [
      "Logistic Regression score: 0.751015625\n"
     ]
    }
   ],
   "source": [
    "#Logistic Regression\n",
    "log_reg_score = log_reg.score(X_test_scaled, y_test)\n",
    "print(f\"Logistic Regression score: {log_reg_score}\")"
   ]
  },
  {
   "cell_type": "code",
   "execution_count": 15,
   "metadata": {},
   "outputs": [
    {
     "name": "stdout",
     "output_type": "stream",
     "text": [
      "              precision    recall  f1-score   support\n",
      "\n",
      "           0       0.97      0.98      0.98      6311\n",
      "           1       0.97      0.98      0.98      7206\n",
      "           2       0.94      0.95      0.95      6409\n",
      "           3       0.95      0.93      0.94      6533\n",
      "           4       0.93      0.96      0.95      6201\n",
      "           5       0.94      0.93      0.94      5799\n",
      "           6       0.97      0.97      0.97      6268\n",
      "           7       0.96      0.95      0.96      6642\n",
      "           8       0.95      0.93      0.94      6274\n",
      "           9       0.93      0.93      0.93      6357\n",
      "\n",
      "    accuracy                           0.95     64000\n",
      "   macro avg       0.95      0.95      0.95     64000\n",
      "weighted avg       0.95      0.95      0.95     64000\n",
      "\n"
     ]
    }
   ],
   "source": [
    "#SVM\n",
    "svm_pred = svm.predict(X_test)\n",
    "svm_score = classification_report(y_test, svm_pred)\n",
    "print(svm_score)"
   ]
  },
  {
   "cell_type": "code",
   "execution_count": 16,
   "metadata": {},
   "outputs": [
    {
     "name": "stdout",
     "output_type": "stream",
     "text": [
      "              precision    recall  f1-score   support\n",
      "\n",
      "           0       0.97      0.98      0.97      6311\n",
      "           1       0.97      0.98      0.97      7206\n",
      "           2       0.93      0.93      0.93      6409\n",
      "           3       0.93      0.91      0.92      6533\n",
      "           4       0.92      0.94      0.93      6201\n",
      "           5       0.93      0.92      0.93      5799\n",
      "           6       0.95      0.96      0.96      6268\n",
      "           7       0.94      0.94      0.94      6642\n",
      "           8       0.93      0.90      0.91      6274\n",
      "           9       0.90      0.91      0.91      6357\n",
      "\n",
      "    accuracy                           0.94     64000\n",
      "   macro avg       0.94      0.94      0.94     64000\n",
      "weighted avg       0.94      0.94      0.94     64000\n",
      "\n"
     ]
    }
   ],
   "source": [
    "#Random Forest\n",
    "rd_pred = rf.predict(X_test)\n",
    "rd_score = classification_report(y_test, rd_pred)\n",
    "print(rd_score)"
   ]
  },
  {
   "cell_type": "code",
   "execution_count": 17,
   "metadata": {},
   "outputs": [
    {
     "name": "stdout",
     "output_type": "stream",
     "text": [
      "              precision    recall  f1-score   support\n",
      "\n",
      "           0       0.97      0.98      0.97      6311\n",
      "           1       0.97      0.98      0.97      7206\n",
      "           2       0.93      0.93      0.93      6409\n",
      "           3       0.93      0.91      0.92      6533\n",
      "           4       0.92      0.94      0.93      6201\n",
      "           5       0.93      0.92      0.93      5799\n",
      "           6       0.95      0.96      0.96      6268\n",
      "           7       0.94      0.94      0.94      6642\n",
      "           8       0.93      0.90      0.91      6274\n",
      "           9       0.90      0.91      0.91      6357\n",
      "\n",
      "    accuracy                           0.94     64000\n",
      "   macro avg       0.94      0.94      0.94     64000\n",
      "weighted avg       0.94      0.94      0.94     64000\n",
      "\n"
     ]
    }
   ],
   "source": [
    "#MPL\n",
    "mpl_pred = mpl.predict(X_test)\n",
    "mpl_score = classification_report(y_test, rd_pred)\n",
    "print(mpl_score)"
   ]
  },
  {
   "cell_type": "code",
   "execution_count": 15,
   "metadata": {},
   "outputs": [
    {
     "name": "stdout",
     "output_type": "stream",
     "text": [
      "Epoch 1/10\n"
     ]
    },
    {
     "ename": "UnimplementedError",
     "evalue": " Cast string to int64 is not supported\n\t [[node sparse_categorical_crossentropy/Cast\n (defined at D:\\iteso\\machine-learning\\workspace\\venv\\lib\\site-packages\\keras\\backend.py:1977)\n]] [Op:__inference_train_function_2233]\n\nErrors may have originated from an input operation.\nInput Source operations connected to node sparse_categorical_crossentropy/Cast:\nIn[0] IteratorGetNext (defined at D:\\iteso\\machine-learning\\workspace\\venv\\lib\\site-packages\\keras\\engine\\training.py:866)\n\nOperation defined at: (most recent call last)\n>>>   File \"C:\\Python39\\lib\\runpy.py\", line 197, in _run_module_as_main\n>>>     return _run_code(code, main_globals, None,\n>>> \n>>>   File \"C:\\Python39\\lib\\runpy.py\", line 87, in _run_code\n>>>     exec(code, run_globals)\n>>> \n>>>   File \"D:\\iteso\\machine-learning\\workspace\\venv\\lib\\site-packages\\ipykernel_launcher.py\", line 16, in <module>\n>>>     app.launch_new_instance()\n>>> \n>>>   File \"D:\\iteso\\machine-learning\\workspace\\venv\\lib\\site-packages\\traitlets\\config\\application.py\", line 846, in launch_instance\n>>>     app.start()\n>>> \n>>>   File \"D:\\iteso\\machine-learning\\workspace\\venv\\lib\\site-packages\\ipykernel\\kernelapp.py\", line 677, in start\n>>>     self.io_loop.start()\n>>> \n>>>   File \"D:\\iteso\\machine-learning\\workspace\\venv\\lib\\site-packages\\tornado\\platform\\asyncio.py\", line 199, in start\n>>>     self.asyncio_loop.run_forever()\n>>> \n>>>   File \"C:\\Python39\\lib\\asyncio\\base_events.py\", line 596, in run_forever\n>>>     self._run_once()\n>>> \n>>>   File \"C:\\Python39\\lib\\asyncio\\base_events.py\", line 1890, in _run_once\n>>>     handle._run()\n>>> \n>>>   File \"C:\\Python39\\lib\\asyncio\\events.py\", line 80, in _run\n>>>     self._context.run(self._callback, *self._args)\n>>> \n>>>   File \"D:\\iteso\\machine-learning\\workspace\\venv\\lib\\site-packages\\ipykernel\\kernelbase.py\", line 461, in dispatch_queue\n>>>     await self.process_one()\n>>> \n>>>   File \"D:\\iteso\\machine-learning\\workspace\\venv\\lib\\site-packages\\ipykernel\\kernelbase.py\", line 450, in process_one\n>>>     await dispatch(*args)\n>>> \n>>>   File \"D:\\iteso\\machine-learning\\workspace\\venv\\lib\\site-packages\\ipykernel\\kernelbase.py\", line 357, in dispatch_shell\n>>>     await result\n>>> \n>>>   File \"D:\\iteso\\machine-learning\\workspace\\venv\\lib\\site-packages\\ipykernel\\kernelbase.py\", line 652, in execute_request\n>>>     reply_content = await reply_content\n>>> \n>>>   File \"D:\\iteso\\machine-learning\\workspace\\venv\\lib\\site-packages\\ipykernel\\ipkernel.py\", line 353, in do_execute\n>>>     res = shell.run_cell(code, store_history=store_history, silent=silent)\n>>> \n>>>   File \"D:\\iteso\\machine-learning\\workspace\\venv\\lib\\site-packages\\ipykernel\\zmqshell.py\", line 532, in run_cell\n>>>     return super().run_cell(*args, **kwargs)\n>>> \n>>>   File \"D:\\iteso\\machine-learning\\workspace\\venv\\lib\\site-packages\\IPython\\core\\interactiveshell.py\", line 2768, in run_cell\n>>>     result = self._run_cell(\n>>> \n>>>   File \"D:\\iteso\\machine-learning\\workspace\\venv\\lib\\site-packages\\IPython\\core\\interactiveshell.py\", line 2814, in _run_cell\n>>>     return runner(coro)\n>>> \n>>>   File \"D:\\iteso\\machine-learning\\workspace\\venv\\lib\\site-packages\\IPython\\core\\async_helpers.py\", line 129, in _pseudo_sync_runner\n>>>     coro.send(None)\n>>> \n>>>   File \"D:\\iteso\\machine-learning\\workspace\\venv\\lib\\site-packages\\IPython\\core\\interactiveshell.py\", line 3012, in run_cell_async\n>>>     has_raised = await self.run_ast_nodes(code_ast.body, cell_name,\n>>> \n>>>   File \"D:\\iteso\\machine-learning\\workspace\\venv\\lib\\site-packages\\IPython\\core\\interactiveshell.py\", line 3191, in run_ast_nodes\n>>>     if await self.run_code(code, result, async_=asy):\n>>> \n>>>   File \"D:\\iteso\\machine-learning\\workspace\\venv\\lib\\site-packages\\IPython\\core\\interactiveshell.py\", line 3251, in run_code\n>>>     exec(code_obj, self.user_global_ns, self.user_ns)\n>>> \n>>>   File \"C:\\Users\\Edgar Vallejo Curti\\AppData\\Local\\Temp\\ipykernel_6180\\2288685325.py\", line 2, in <module>\n>>>     cnn.fit(x=X_train_reshape, y=y_train, epochs=10)\n>>> \n>>>   File \"D:\\iteso\\machine-learning\\workspace\\venv\\lib\\site-packages\\keras\\utils\\traceback_utils.py\", line 64, in error_handler\n>>>     return fn(*args, **kwargs)\n>>> \n>>>   File \"D:\\iteso\\machine-learning\\workspace\\venv\\lib\\site-packages\\keras\\engine\\training.py\", line 1216, in fit\n>>>     tmp_logs = self.train_function(iterator)\n>>> \n>>>   File \"D:\\iteso\\machine-learning\\workspace\\venv\\lib\\site-packages\\keras\\engine\\training.py\", line 878, in train_function\n>>>     return step_function(self, iterator)\n>>> \n>>>   File \"D:\\iteso\\machine-learning\\workspace\\venv\\lib\\site-packages\\keras\\engine\\training.py\", line 867, in step_function\n>>>     outputs = model.distribute_strategy.run(run_step, args=(data,))\n>>> \n>>>   File \"D:\\iteso\\machine-learning\\workspace\\venv\\lib\\site-packages\\keras\\engine\\training.py\", line 860, in run_step\n>>>     outputs = model.train_step(data)\n>>> \n>>>   File \"D:\\iteso\\machine-learning\\workspace\\venv\\lib\\site-packages\\keras\\engine\\training.py\", line 809, in train_step\n>>>     loss = self.compiled_loss(\n>>> \n>>>   File \"D:\\iteso\\machine-learning\\workspace\\venv\\lib\\site-packages\\keras\\engine\\compile_utils.py\", line 201, in __call__\n>>>     loss_value = loss_obj(y_t, y_p, sample_weight=sw)\n>>> \n>>>   File \"D:\\iteso\\machine-learning\\workspace\\venv\\lib\\site-packages\\keras\\losses.py\", line 141, in __call__\n>>>     losses = call_fn(y_true, y_pred)\n>>> \n>>>   File \"D:\\iteso\\machine-learning\\workspace\\venv\\lib\\site-packages\\keras\\losses.py\", line 245, in call\n>>>     return ag_fn(y_true, y_pred, **self._fn_kwargs)\n>>> \n>>>   File \"D:\\iteso\\machine-learning\\workspace\\venv\\lib\\site-packages\\keras\\losses.py\", line 1737, in sparse_categorical_crossentropy\n>>>     return backend.sparse_categorical_crossentropy(\n>>> \n>>>   File \"D:\\iteso\\machine-learning\\workspace\\venv\\lib\\site-packages\\keras\\backend.py\", line 5098, in sparse_categorical_crossentropy\n>>>     target = cast(target, 'int64')\n>>> \n>>>   File \"D:\\iteso\\machine-learning\\workspace\\venv\\lib\\site-packages\\keras\\backend.py\", line 1977, in cast\n>>>     return tf.cast(x, dtype)\n>>> ",
     "output_type": "error",
     "traceback": [
      "\u001b[1;31m---------------------------------------------------------------------------\u001b[0m",
      "\u001b[1;31mUnimplementedError\u001b[0m                        Traceback (most recent call last)",
      "\u001b[1;32md:\\iteso\\machine-learning\\workspace\\projects\\1_minst.ipynb Cell 28'\u001b[0m in \u001b[0;36m<module>\u001b[1;34m\u001b[0m\n\u001b[0;32m      <a href='vscode-notebook-cell:/d%3A/iteso/machine-learning/workspace/projects/1_minst.ipynb#ch0000026?line=0'>1</a>\u001b[0m \u001b[39m#CNN\u001b[39;00m\n\u001b[1;32m----> <a href='vscode-notebook-cell:/d%3A/iteso/machine-learning/workspace/projects/1_minst.ipynb#ch0000026?line=1'>2</a>\u001b[0m cnn\u001b[39m.\u001b[39;49mfit(x\u001b[39m=\u001b[39;49mX_train_reshape, y\u001b[39m=\u001b[39;49my_train, epochs\u001b[39m=\u001b[39;49m\u001b[39m10\u001b[39;49m)\n",
      "File \u001b[1;32mD:\\iteso\\machine-learning\\workspace\\venv\\lib\\site-packages\\keras\\utils\\traceback_utils.py:67\u001b[0m, in \u001b[0;36mfilter_traceback.<locals>.error_handler\u001b[1;34m(*args, **kwargs)\u001b[0m\n\u001b[0;32m     <a href='file:///d%3A/iteso/machine-learning/workspace/venv/lib/site-packages/keras/utils/traceback_utils.py?line=64'>65</a>\u001b[0m \u001b[39mexcept\u001b[39;00m \u001b[39mException\u001b[39;00m \u001b[39mas\u001b[39;00m e:  \u001b[39m# pylint: disable=broad-except\u001b[39;00m\n\u001b[0;32m     <a href='file:///d%3A/iteso/machine-learning/workspace/venv/lib/site-packages/keras/utils/traceback_utils.py?line=65'>66</a>\u001b[0m   filtered_tb \u001b[39m=\u001b[39m _process_traceback_frames(e\u001b[39m.\u001b[39m__traceback__)\n\u001b[1;32m---> <a href='file:///d%3A/iteso/machine-learning/workspace/venv/lib/site-packages/keras/utils/traceback_utils.py?line=66'>67</a>\u001b[0m   \u001b[39mraise\u001b[39;00m e\u001b[39m.\u001b[39mwith_traceback(filtered_tb) \u001b[39mfrom\u001b[39;00m \u001b[39mNone\u001b[39m\n\u001b[0;32m     <a href='file:///d%3A/iteso/machine-learning/workspace/venv/lib/site-packages/keras/utils/traceback_utils.py?line=67'>68</a>\u001b[0m \u001b[39mfinally\u001b[39;00m:\n\u001b[0;32m     <a href='file:///d%3A/iteso/machine-learning/workspace/venv/lib/site-packages/keras/utils/traceback_utils.py?line=68'>69</a>\u001b[0m   \u001b[39mdel\u001b[39;00m filtered_tb\n",
      "File \u001b[1;32mD:\\iteso\\machine-learning\\workspace\\venv\\lib\\site-packages\\tensorflow\\python\\eager\\execute.py:58\u001b[0m, in \u001b[0;36mquick_execute\u001b[1;34m(op_name, num_outputs, inputs, attrs, ctx, name)\u001b[0m\n\u001b[0;32m     <a href='file:///d%3A/iteso/machine-learning/workspace/venv/lib/site-packages/tensorflow/python/eager/execute.py?line=55'>56</a>\u001b[0m \u001b[39mtry\u001b[39;00m:\n\u001b[0;32m     <a href='file:///d%3A/iteso/machine-learning/workspace/venv/lib/site-packages/tensorflow/python/eager/execute.py?line=56'>57</a>\u001b[0m   ctx\u001b[39m.\u001b[39mensure_initialized()\n\u001b[1;32m---> <a href='file:///d%3A/iteso/machine-learning/workspace/venv/lib/site-packages/tensorflow/python/eager/execute.py?line=57'>58</a>\u001b[0m   tensors \u001b[39m=\u001b[39m pywrap_tfe\u001b[39m.\u001b[39mTFE_Py_Execute(ctx\u001b[39m.\u001b[39m_handle, device_name, op_name,\n\u001b[0;32m     <a href='file:///d%3A/iteso/machine-learning/workspace/venv/lib/site-packages/tensorflow/python/eager/execute.py?line=58'>59</a>\u001b[0m                                       inputs, attrs, num_outputs)\n\u001b[0;32m     <a href='file:///d%3A/iteso/machine-learning/workspace/venv/lib/site-packages/tensorflow/python/eager/execute.py?line=59'>60</a>\u001b[0m \u001b[39mexcept\u001b[39;00m core\u001b[39m.\u001b[39m_NotOkStatusException \u001b[39mas\u001b[39;00m e:\n\u001b[0;32m     <a href='file:///d%3A/iteso/machine-learning/workspace/venv/lib/site-packages/tensorflow/python/eager/execute.py?line=60'>61</a>\u001b[0m   \u001b[39mif\u001b[39;00m name \u001b[39mis\u001b[39;00m \u001b[39mnot\u001b[39;00m \u001b[39mNone\u001b[39;00m:\n",
      "\u001b[1;31mUnimplementedError\u001b[0m:  Cast string to int64 is not supported\n\t [[node sparse_categorical_crossentropy/Cast\n (defined at D:\\iteso\\machine-learning\\workspace\\venv\\lib\\site-packages\\keras\\backend.py:1977)\n]] [Op:__inference_train_function_2233]\n\nErrors may have originated from an input operation.\nInput Source operations connected to node sparse_categorical_crossentropy/Cast:\nIn[0] IteratorGetNext (defined at D:\\iteso\\machine-learning\\workspace\\venv\\lib\\site-packages\\keras\\engine\\training.py:866)\n\nOperation defined at: (most recent call last)\n>>>   File \"C:\\Python39\\lib\\runpy.py\", line 197, in _run_module_as_main\n>>>     return _run_code(code, main_globals, None,\n>>> \n>>>   File \"C:\\Python39\\lib\\runpy.py\", line 87, in _run_code\n>>>     exec(code, run_globals)\n>>> \n>>>   File \"D:\\iteso\\machine-learning\\workspace\\venv\\lib\\site-packages\\ipykernel_launcher.py\", line 16, in <module>\n>>>     app.launch_new_instance()\n>>> \n>>>   File \"D:\\iteso\\machine-learning\\workspace\\venv\\lib\\site-packages\\traitlets\\config\\application.py\", line 846, in launch_instance\n>>>     app.start()\n>>> \n>>>   File \"D:\\iteso\\machine-learning\\workspace\\venv\\lib\\site-packages\\ipykernel\\kernelapp.py\", line 677, in start\n>>>     self.io_loop.start()\n>>> \n>>>   File \"D:\\iteso\\machine-learning\\workspace\\venv\\lib\\site-packages\\tornado\\platform\\asyncio.py\", line 199, in start\n>>>     self.asyncio_loop.run_forever()\n>>> \n>>>   File \"C:\\Python39\\lib\\asyncio\\base_events.py\", line 596, in run_forever\n>>>     self._run_once()\n>>> \n>>>   File \"C:\\Python39\\lib\\asyncio\\base_events.py\", line 1890, in _run_once\n>>>     handle._run()\n>>> \n>>>   File \"C:\\Python39\\lib\\asyncio\\events.py\", line 80, in _run\n>>>     self._context.run(self._callback, *self._args)\n>>> \n>>>   File \"D:\\iteso\\machine-learning\\workspace\\venv\\lib\\site-packages\\ipykernel\\kernelbase.py\", line 461, in dispatch_queue\n>>>     await self.process_one()\n>>> \n>>>   File \"D:\\iteso\\machine-learning\\workspace\\venv\\lib\\site-packages\\ipykernel\\kernelbase.py\", line 450, in process_one\n>>>     await dispatch(*args)\n>>> \n>>>   File \"D:\\iteso\\machine-learning\\workspace\\venv\\lib\\site-packages\\ipykernel\\kernelbase.py\", line 357, in dispatch_shell\n>>>     await result\n>>> \n>>>   File \"D:\\iteso\\machine-learning\\workspace\\venv\\lib\\site-packages\\ipykernel\\kernelbase.py\", line 652, in execute_request\n>>>     reply_content = await reply_content\n>>> \n>>>   File \"D:\\iteso\\machine-learning\\workspace\\venv\\lib\\site-packages\\ipykernel\\ipkernel.py\", line 353, in do_execute\n>>>     res = shell.run_cell(code, store_history=store_history, silent=silent)\n>>> \n>>>   File \"D:\\iteso\\machine-learning\\workspace\\venv\\lib\\site-packages\\ipykernel\\zmqshell.py\", line 532, in run_cell\n>>>     return super().run_cell(*args, **kwargs)\n>>> \n>>>   File \"D:\\iteso\\machine-learning\\workspace\\venv\\lib\\site-packages\\IPython\\core\\interactiveshell.py\", line 2768, in run_cell\n>>>     result = self._run_cell(\n>>> \n>>>   File \"D:\\iteso\\machine-learning\\workspace\\venv\\lib\\site-packages\\IPython\\core\\interactiveshell.py\", line 2814, in _run_cell\n>>>     return runner(coro)\n>>> \n>>>   File \"D:\\iteso\\machine-learning\\workspace\\venv\\lib\\site-packages\\IPython\\core\\async_helpers.py\", line 129, in _pseudo_sync_runner\n>>>     coro.send(None)\n>>> \n>>>   File \"D:\\iteso\\machine-learning\\workspace\\venv\\lib\\site-packages\\IPython\\core\\interactiveshell.py\", line 3012, in run_cell_async\n>>>     has_raised = await self.run_ast_nodes(code_ast.body, cell_name,\n>>> \n>>>   File \"D:\\iteso\\machine-learning\\workspace\\venv\\lib\\site-packages\\IPython\\core\\interactiveshell.py\", line 3191, in run_ast_nodes\n>>>     if await self.run_code(code, result, async_=asy):\n>>> \n>>>   File \"D:\\iteso\\machine-learning\\workspace\\venv\\lib\\site-packages\\IPython\\core\\interactiveshell.py\", line 3251, in run_code\n>>>     exec(code_obj, self.user_global_ns, self.user_ns)\n>>> \n>>>   File \"C:\\Users\\Edgar Vallejo Curti\\AppData\\Local\\Temp\\ipykernel_6180\\2288685325.py\", line 2, in <module>\n>>>     cnn.fit(x=X_train_reshape, y=y_train, epochs=10)\n>>> \n>>>   File \"D:\\iteso\\machine-learning\\workspace\\venv\\lib\\site-packages\\keras\\utils\\traceback_utils.py\", line 64, in error_handler\n>>>     return fn(*args, **kwargs)\n>>> \n>>>   File \"D:\\iteso\\machine-learning\\workspace\\venv\\lib\\site-packages\\keras\\engine\\training.py\", line 1216, in fit\n>>>     tmp_logs = self.train_function(iterator)\n>>> \n>>>   File \"D:\\iteso\\machine-learning\\workspace\\venv\\lib\\site-packages\\keras\\engine\\training.py\", line 878, in train_function\n>>>     return step_function(self, iterator)\n>>> \n>>>   File \"D:\\iteso\\machine-learning\\workspace\\venv\\lib\\site-packages\\keras\\engine\\training.py\", line 867, in step_function\n>>>     outputs = model.distribute_strategy.run(run_step, args=(data,))\n>>> \n>>>   File \"D:\\iteso\\machine-learning\\workspace\\venv\\lib\\site-packages\\keras\\engine\\training.py\", line 860, in run_step\n>>>     outputs = model.train_step(data)\n>>> \n>>>   File \"D:\\iteso\\machine-learning\\workspace\\venv\\lib\\site-packages\\keras\\engine\\training.py\", line 809, in train_step\n>>>     loss = self.compiled_loss(\n>>> \n>>>   File \"D:\\iteso\\machine-learning\\workspace\\venv\\lib\\site-packages\\keras\\engine\\compile_utils.py\", line 201, in __call__\n>>>     loss_value = loss_obj(y_t, y_p, sample_weight=sw)\n>>> \n>>>   File \"D:\\iteso\\machine-learning\\workspace\\venv\\lib\\site-packages\\keras\\losses.py\", line 141, in __call__\n>>>     losses = call_fn(y_true, y_pred)\n>>> \n>>>   File \"D:\\iteso\\machine-learning\\workspace\\venv\\lib\\site-packages\\keras\\losses.py\", line 245, in call\n>>>     return ag_fn(y_true, y_pred, **self._fn_kwargs)\n>>> \n>>>   File \"D:\\iteso\\machine-learning\\workspace\\venv\\lib\\site-packages\\keras\\losses.py\", line 1737, in sparse_categorical_crossentropy\n>>>     return backend.sparse_categorical_crossentropy(\n>>> \n>>>   File \"D:\\iteso\\machine-learning\\workspace\\venv\\lib\\site-packages\\keras\\backend.py\", line 5098, in sparse_categorical_crossentropy\n>>>     target = cast(target, 'int64')\n>>> \n>>>   File \"D:\\iteso\\machine-learning\\workspace\\venv\\lib\\site-packages\\keras\\backend.py\", line 1977, in cast\n>>>     return tf.cast(x, dtype)\n>>> "
     ]
    }
   ],
   "source": [
    "#CNN"
   ]
  },
  {
   "cell_type": "markdown",
   "metadata": {},
   "source": [
    "## 6. Visualization of Results"
   ]
  },
  {
   "cell_type": "code",
   "execution_count": null,
   "metadata": {},
   "outputs": [],
   "source": []
  }
 ],
 "metadata": {
  "interpreter": {
   "hash": "c09115f110084a8e845130ccb938590d6916cbbd2b10408cc128a9154701988f"
  },
  "kernelspec": {
   "display_name": "Python 3.9.1 ('venv': venv)",
   "language": "python",
   "name": "python3"
  },
  "language_info": {
   "codemirror_mode": {
    "name": "ipython",
    "version": 3
   },
   "file_extension": ".py",
   "mimetype": "text/x-python",
   "name": "python",
   "nbconvert_exporter": "python",
   "pygments_lexer": "ipython3",
   "version": "3.9.1"
  },
  "orig_nbformat": 4
 },
 "nbformat": 4,
 "nbformat_minor": 2
}
