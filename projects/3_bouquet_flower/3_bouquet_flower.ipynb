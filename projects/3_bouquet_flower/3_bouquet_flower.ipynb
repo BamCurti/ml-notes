{
 "cells": [
  {
   "cell_type": "markdown",
   "metadata": {},
   "source": [
    "# 3. Bouquet Flower Classification"
   ]
  },
  {
   "cell_type": "markdown",
   "metadata": {},
   "source": [
    "## Objectives \n",
    "* Build or get a data set of image files of bouquet flowers. It must contain at least 10 categories of flowers and 25 images for each category.\n",
    "* Generate the training data\n",
    "    * Using Orange, generate the Image Embeddings por each dataset with Inception V3.\n",
    "    * Save the Image Embeddings and use them in a Jupyter notebook.\n",
    "* Try at least 2 features for each one pf the following classifiers:\n",
    "    * Logistic Regression\n",
    "    * Neural Networks\n",
    "    * SVM\n",
    "    * Random Forest\n",
    "* Mesaure the performance of the models, get and analize the confusion matrix."
   ]
  },
  {
   "cell_type": "code",
   "execution_count": 71,
   "metadata": {},
   "outputs": [],
   "source": [
    "import pandas as pd\n",
    "import numpy as np\n",
    "import seaborn as sns\n",
    "import matplotlib.pyplot as plt"
   ]
  },
  {
   "cell_type": "markdown",
   "metadata": {},
   "source": [
    "## Read Data"
   ]
  },
  {
   "cell_type": "code",
   "execution_count": 72,
   "metadata": {},
   "outputs": [],
   "source": [
    "df = pd.read_csv('./dataset.csv')"
   ]
  },
  {
   "cell_type": "code",
   "execution_count": 73,
   "metadata": {},
   "outputs": [],
   "source": [
    "#Get the categories dictionary\n",
    "from json import load\n",
    "with open('./data/cat_to_name.json') as f:\n",
    "    dictionary = load(f)"
   ]
  },
  {
   "cell_type": "markdown",
   "metadata": {},
   "source": [
    "## Data Preprocessing"
   ]
  },
  {
   "cell_type": "markdown",
   "metadata": {},
   "source": [
    "In the following block, it shows all the information about the dataset. Explaining a little, the nfeature is the result of the image embedding algorithm, and category is the target. The others features are the metadata of the image."
   ]
  },
  {
   "cell_type": "code",
   "execution_count": 74,
   "metadata": {},
   "outputs": [
    {
     "data": {
      "text/html": [
       "<div>\n",
       "<style scoped>\n",
       "    .dataframe tbody tr th:only-of-type {\n",
       "        vertical-align: middle;\n",
       "    }\n",
       "\n",
       "    .dataframe tbody tr th {\n",
       "        vertical-align: top;\n",
       "    }\n",
       "\n",
       "    .dataframe thead th {\n",
       "        text-align: right;\n",
       "    }\n",
       "</style>\n",
       "<table border=\"1\" class=\"dataframe\">\n",
       "  <thead>\n",
       "    <tr style=\"text-align: right;\">\n",
       "      <th></th>\n",
       "      <th>count</th>\n",
       "      <th>mean</th>\n",
       "      <th>std</th>\n",
       "      <th>min</th>\n",
       "      <th>25%</th>\n",
       "      <th>50%</th>\n",
       "      <th>75%</th>\n",
       "      <th>max</th>\n",
       "    </tr>\n",
       "  </thead>\n",
       "  <tbody>\n",
       "    <tr>\n",
       "      <th>id</th>\n",
       "      <td>427.0</td>\n",
       "      <td>2591.934426</td>\n",
       "      <td>1934.192456</td>\n",
       "      <td>0.000000</td>\n",
       "      <td>686.500000</td>\n",
       "      <td>2434.000000</td>\n",
       "      <td>4870.500000</td>\n",
       "      <td>5862.000000</td>\n",
       "    </tr>\n",
       "    <tr>\n",
       "      <th>n0</th>\n",
       "      <td>427.0</td>\n",
       "      <td>0.123907</td>\n",
       "      <td>0.135906</td>\n",
       "      <td>0.000000</td>\n",
       "      <td>0.035596</td>\n",
       "      <td>0.079397</td>\n",
       "      <td>0.164688</td>\n",
       "      <td>0.865708</td>\n",
       "    </tr>\n",
       "    <tr>\n",
       "      <th>n1</th>\n",
       "      <td>427.0</td>\n",
       "      <td>0.296530</td>\n",
       "      <td>0.357501</td>\n",
       "      <td>0.000000</td>\n",
       "      <td>0.048361</td>\n",
       "      <td>0.140451</td>\n",
       "      <td>0.414406</td>\n",
       "      <td>1.968339</td>\n",
       "    </tr>\n",
       "    <tr>\n",
       "      <th>n2</th>\n",
       "      <td>427.0</td>\n",
       "      <td>0.706586</td>\n",
       "      <td>0.523713</td>\n",
       "      <td>0.009525</td>\n",
       "      <td>0.334935</td>\n",
       "      <td>0.596198</td>\n",
       "      <td>0.980846</td>\n",
       "      <td>3.007994</td>\n",
       "    </tr>\n",
       "    <tr>\n",
       "      <th>n3</th>\n",
       "      <td>427.0</td>\n",
       "      <td>0.423048</td>\n",
       "      <td>0.328542</td>\n",
       "      <td>0.000691</td>\n",
       "      <td>0.170172</td>\n",
       "      <td>0.346462</td>\n",
       "      <td>0.620304</td>\n",
       "      <td>1.787014</td>\n",
       "    </tr>\n",
       "    <tr>\n",
       "      <th>...</th>\n",
       "      <td>...</td>\n",
       "      <td>...</td>\n",
       "      <td>...</td>\n",
       "      <td>...</td>\n",
       "      <td>...</td>\n",
       "      <td>...</td>\n",
       "      <td>...</td>\n",
       "      <td>...</td>\n",
       "    </tr>\n",
       "    <tr>\n",
       "      <th>n2047</th>\n",
       "      <td>427.0</td>\n",
       "      <td>0.392623</td>\n",
       "      <td>0.331344</td>\n",
       "      <td>0.000000</td>\n",
       "      <td>0.129059</td>\n",
       "      <td>0.312468</td>\n",
       "      <td>0.577325</td>\n",
       "      <td>1.635965</td>\n",
       "    </tr>\n",
       "    <tr>\n",
       "      <th>category</th>\n",
       "      <td>427.0</td>\n",
       "      <td>5.688525</td>\n",
       "      <td>2.766998</td>\n",
       "      <td>1.000000</td>\n",
       "      <td>3.000000</td>\n",
       "      <td>6.000000</td>\n",
       "      <td>8.000000</td>\n",
       "      <td>10.000000</td>\n",
       "    </tr>\n",
       "    <tr>\n",
       "      <th>size</th>\n",
       "      <td>427.0</td>\n",
       "      <td>41176.189696</td>\n",
       "      <td>12408.781580</td>\n",
       "      <td>15537.000000</td>\n",
       "      <td>33126.500000</td>\n",
       "      <td>39450.000000</td>\n",
       "      <td>47660.000000</td>\n",
       "      <td>100863.000000</td>\n",
       "    </tr>\n",
       "    <tr>\n",
       "      <th>width</th>\n",
       "      <td>427.0</td>\n",
       "      <td>594.259953</td>\n",
       "      <td>95.112660</td>\n",
       "      <td>500.000000</td>\n",
       "      <td>500.000000</td>\n",
       "      <td>587.000000</td>\n",
       "      <td>667.000000</td>\n",
       "      <td>845.000000</td>\n",
       "    </tr>\n",
       "    <tr>\n",
       "      <th>height</th>\n",
       "      <td>427.0</td>\n",
       "      <td>562.072600</td>\n",
       "      <td>93.095901</td>\n",
       "      <td>500.000000</td>\n",
       "      <td>500.000000</td>\n",
       "      <td>500.000000</td>\n",
       "      <td>625.000000</td>\n",
       "      <td>928.000000</td>\n",
       "    </tr>\n",
       "  </tbody>\n",
       "</table>\n",
       "<p>2053 rows × 8 columns</p>\n",
       "</div>"
      ],
      "text/plain": [
       "          count          mean           std           min           25%  \\\n",
       "id        427.0   2591.934426   1934.192456      0.000000    686.500000   \n",
       "n0        427.0      0.123907      0.135906      0.000000      0.035596   \n",
       "n1        427.0      0.296530      0.357501      0.000000      0.048361   \n",
       "n2        427.0      0.706586      0.523713      0.009525      0.334935   \n",
       "n3        427.0      0.423048      0.328542      0.000691      0.170172   \n",
       "...         ...           ...           ...           ...           ...   \n",
       "n2047     427.0      0.392623      0.331344      0.000000      0.129059   \n",
       "category  427.0      5.688525      2.766998      1.000000      3.000000   \n",
       "size      427.0  41176.189696  12408.781580  15537.000000  33126.500000   \n",
       "width     427.0    594.259953     95.112660    500.000000    500.000000   \n",
       "height    427.0    562.072600     93.095901    500.000000    500.000000   \n",
       "\n",
       "                   50%           75%            max  \n",
       "id         2434.000000   4870.500000    5862.000000  \n",
       "n0            0.079397      0.164688       0.865708  \n",
       "n1            0.140451      0.414406       1.968339  \n",
       "n2            0.596198      0.980846       3.007994  \n",
       "n3            0.346462      0.620304       1.787014  \n",
       "...                ...           ...            ...  \n",
       "n2047         0.312468      0.577325       1.635965  \n",
       "category      6.000000      8.000000      10.000000  \n",
       "size      39450.000000  47660.000000  100863.000000  \n",
       "width       587.000000    667.000000     845.000000  \n",
       "height      500.000000    625.000000     928.000000  \n",
       "\n",
       "[2053 rows x 8 columns]"
      ]
     },
     "execution_count": 74,
     "metadata": {},
     "output_type": "execute_result"
    }
   ],
   "source": [
    "df.describe().T"
   ]
  },
  {
   "cell_type": "code",
   "execution_count": 75,
   "metadata": {},
   "outputs": [],
   "source": [
    "#Change the keys, from string to int\n",
    "dictionary = { int(k): v for k, v in dictionary.items() }"
   ]
  },
  {
   "cell_type": "code",
   "execution_count": 76,
   "metadata": {},
   "outputs": [
    {
     "name": "stdout",
     "output_type": "stream",
     "text": [
      "Categories:\n",
      "1: pink primrose\n",
      "10: globe thistle\n",
      "2: hard-leaved pocket orchid\n",
      "3: canterbury bells\n",
      "4: sweet pea\n",
      "5: english marigold\n",
      "6: tiger lily\n",
      "7: moon orchid\n",
      "8: bird of paradise\n",
      "9: monkshood\n"
     ]
    }
   ],
   "source": [
    "#To know which flowers we have\n",
    "print('Categories:')\n",
    "keys = df.category.unique()\n",
    "for k in keys:\n",
    "    print(f'{k}: {dictionary[k]}')"
   ]
  },
  {
   "cell_type": "code",
   "execution_count": 77,
   "metadata": {},
   "outputs": [],
   "source": [
    "#Separate our possible features from the target\n",
    "X, y = df.drop(['category', 'size', 'width', 'height', 'image name', 'image', 'id'], axis=1), df['category']"
   ]
  },
  {
   "cell_type": "code",
   "execution_count": 78,
   "metadata": {},
   "outputs": [],
   "source": [
    "#For selecting the best features, will use the next utilities from sklearn\n",
    "from sklearn.feature_selection import SelectKBest, chi2\n",
    "best_features = SelectKBest(chi2, k=10).fit(X, y)"
   ]
  },
  {
   "cell_type": "code",
   "execution_count": 79,
   "metadata": {},
   "outputs": [],
   "source": [
    "#I will be creating a new df with all the features and correlations with the target\n",
    "n_features = 2048\n",
    "df_scores = pd.DataFrame(best_features.scores_)\n",
    "df_columns = pd.DataFrame(X.columns)\n",
    "\n",
    "#concat\n",
    "feature_scores = pd.concat([df_columns, df_scores], axis=1)\n",
    "feature_scores.columns = ['Specs', 'Score']\n",
    "\n",
    "features_to_use = list(feature_scores.nlargest(n_features, 'Score').Specs)\n",
    "#print(feature_scores.nlargest(n_features, 'Score'))"
   ]
  },
  {
   "cell_type": "code",
   "execution_count": 80,
   "metadata": {},
   "outputs": [
    {
     "data": {
      "text/plain": [
       "\"%matplotlib inline\\nsns.set(rc={'figure.figsize':(20,10)})\\nsns.heatmap(df[features_to_use + ['category']].corr(), annot=True)\""
      ]
     },
     "execution_count": 80,
     "metadata": {},
     "output_type": "execute_result"
    }
   ],
   "source": [
    "#To know how correleated are the features with the categories\n",
    "\"\"\"%matplotlib inline\n",
    "sns.set(rc={'figure.figsize':(20,10)})\n",
    "sns.heatmap(df[features_to_use + ['category']].corr(), annot=True)\"\"\""
   ]
  },
  {
   "cell_type": "markdown",
   "metadata": {},
   "source": [
    "As we can see, there is not too much correlationship between category and all the features, been bellow the 0.5 of correlation. However, there is a set of features strong correlated, so, it can be useful for the models."
   ]
  },
  {
   "cell_type": "code",
   "execution_count": 81,
   "metadata": {},
   "outputs": [],
   "source": [
    "#I'll separate the X from the selected features\n",
    "x = X[features_to_use]"
   ]
  },
  {
   "cell_type": "code",
   "execution_count": 82,
   "metadata": {},
   "outputs": [],
   "source": [
    "from sklearn.model_selection import train_test_split\n",
    "x_train, x_test, y_train, y_test = train_test_split(x, y, test_size=0.2, random_state=101)"
   ]
  },
  {
   "cell_type": "code",
   "execution_count": 83,
   "metadata": {},
   "outputs": [],
   "source": [
    "#For logistic regression, it is necessary to normalize \n",
    "from sklearn.preprocessing import StandardScaler\n",
    "standard_scaler = StandardScaler()\n",
    "x_train_scaled = standard_scaler.fit_transform(x_train, y_train)\n",
    "x_test_scaled = standard_scaler.fit_transform(x_test, y_test)"
   ]
  },
  {
   "cell_type": "markdown",
   "metadata": {},
   "source": [
    "## Model Creation"
   ]
  },
  {
   "cell_type": "code",
   "execution_count": 84,
   "metadata": {},
   "outputs": [],
   "source": [
    "\"\"\"Logistic Regression\"\"\"\n",
    "from sklearn.linear_model import LogisticRegression\n",
    "log_reg = LogisticRegression(max_iter=100)"
   ]
  },
  {
   "cell_type": "code",
   "execution_count": 85,
   "metadata": {},
   "outputs": [],
   "source": [
    "\"\"\"Neural networks\"\"\"\n",
    "from sklearn.neural_network import MLPClassifier\n",
    "neural_network = MLPClassifier(max_iter=500, solver='lbfgs')"
   ]
  },
  {
   "cell_type": "code",
   "execution_count": 86,
   "metadata": {},
   "outputs": [],
   "source": [
    "\"\"\"SVM\"\"\"\n",
    "from sklearn.svm import SVC\n",
    "svm = SVC()"
   ]
  },
  {
   "cell_type": "code",
   "execution_count": 87,
   "metadata": {},
   "outputs": [],
   "source": [
    "\"\"\"Random Forest\"\"\"\n",
    "from sklearn.ensemble import RandomForestClassifier\n",
    "random_forest = RandomForestClassifier()"
   ]
  },
  {
   "cell_type": "markdown",
   "metadata": {},
   "source": [
    "## Adjust Model with Historic Data"
   ]
  },
  {
   "cell_type": "code",
   "execution_count": 88,
   "metadata": {},
   "outputs": [
    {
     "name": "stderr",
     "output_type": "stream",
     "text": [
      "d:\\iteso\\machine-learning\\workspace\\venv\\lib\\site-packages\\sklearn\\linear_model\\_logistic.py:814: ConvergenceWarning: lbfgs failed to converge (status=1):\n",
      "STOP: TOTAL NO. of ITERATIONS REACHED LIMIT.\n",
      "\n",
      "Increase the number of iterations (max_iter) or scale the data as shown in:\n",
      "    https://scikit-learn.org/stable/modules/preprocessing.html\n",
      "Please also refer to the documentation for alternative solver options:\n",
      "    https://scikit-learn.org/stable/modules/linear_model.html#logistic-regression\n",
      "  n_iter_i = _check_optimize_result(\n"
     ]
    },
    {
     "data": {
      "text/plain": [
       "LogisticRegression()"
      ]
     },
     "execution_count": 88,
     "metadata": {},
     "output_type": "execute_result"
    }
   ],
   "source": [
    "\"\"\"Logistic Regression\"\"\"\n",
    "log_reg.fit(x_train_scaled, y_train)"
   ]
  },
  {
   "cell_type": "code",
   "execution_count": 89,
   "metadata": {},
   "outputs": [
    {
     "data": {
      "text/plain": [
       "MLPClassifier(max_iter=500, solver='lbfgs')"
      ]
     },
     "execution_count": 89,
     "metadata": {},
     "output_type": "execute_result"
    }
   ],
   "source": [
    "\"\"\"Neural network\"\"\"\n",
    "neural_network.fit(x_train, y_train)"
   ]
  },
  {
   "cell_type": "code",
   "execution_count": 90,
   "metadata": {},
   "outputs": [
    {
     "data": {
      "text/plain": [
       "SVC()"
      ]
     },
     "execution_count": 90,
     "metadata": {},
     "output_type": "execute_result"
    }
   ],
   "source": [
    "\"\"\"SVM\"\"\"\n",
    "svm.fit(x_train, y_train)"
   ]
  },
  {
   "cell_type": "code",
   "execution_count": 91,
   "metadata": {},
   "outputs": [
    {
     "data": {
      "text/plain": [
       "RandomForestClassifier()"
      ]
     },
     "execution_count": 91,
     "metadata": {},
     "output_type": "execute_result"
    }
   ],
   "source": [
    "\"\"\"Random Forest\"\"\"\n",
    "random_forest.fit(x_train, y_train)"
   ]
  },
  {
   "cell_type": "markdown",
   "metadata": {},
   "source": [
    "# Prediction for New Data"
   ]
  },
  {
   "cell_type": "code",
   "execution_count": 92,
   "metadata": {},
   "outputs": [],
   "source": [
    "log_reg_pred = log_reg.predict(x_test_scaled)\n",
    "neural_network_pred = neural_network.predict(x_test)\n",
    "svm_pred = svm.predict(x_test)\n",
    "random_forest_pred = random_forest.predict(x_test)"
   ]
  },
  {
   "cell_type": "code",
   "execution_count": 93,
   "metadata": {},
   "outputs": [],
   "source": [
    "def decode_classification(input, dictionary) -> list:\n",
    "    \"\"\"Returns a list mapping the code of the classification to the corresponding etiquettes.\n",
    "\n",
    "    Args:\n",
    "        input (list[int]): The list of the codes of the dictionary.\n",
    "        dictionary (dict[int: string]): The dictionary of etiquettes.\n",
    "\n",
    "    Returns:\n",
    "        list: A list of the categories.\n",
    "    \"\"\"\n",
    "    return [dictionary[i] for i in input]"
   ]
  },
  {
   "cell_type": "code",
   "execution_count": 94,
   "metadata": {},
   "outputs": [],
   "source": [
    "log_reg_pred = decode_classification(log_reg_pred, dictionary)\n",
    "neural_network_pred = decode_classification(neural_network_pred, dictionary)\n",
    "svm_pred = decode_classification(svm_pred, dictionary)\n",
    "random_forest_pred = decode_classification(random_forest_pred, dictionary)\n"
   ]
  },
  {
   "cell_type": "code",
   "execution_count": 95,
   "metadata": {},
   "outputs": [],
   "source": [
    "y_test = decode_classification(y_test, dictionary)"
   ]
  },
  {
   "cell_type": "markdown",
   "metadata": {},
   "source": [
    "## Visualization of the results"
   ]
  },
  {
   "cell_type": "code",
   "execution_count": 96,
   "metadata": {},
   "outputs": [],
   "source": [
    "from sklearn.metrics import confusion_matrix"
   ]
  },
  {
   "cell_type": "code",
   "execution_count": 97,
   "metadata": {},
   "outputs": [],
   "source": [
    "from sklearn.model_selection import cross_val_score"
   ]
  },
  {
   "cell_type": "code",
   "execution_count": 98,
   "metadata": {},
   "outputs": [
    {
     "name": "stdout",
     "output_type": "stream",
     "text": [
      "[0.9076354679802955, 0.8838259441707718, 0.7799671592775042, 0.8025451559934318]\n"
     ]
    }
   ],
   "source": [
    "scores = [ \n",
    "    cross_val_score(log_reg, x_test_scaled, y_test, cv=3, scoring='accuracy').mean(), \n",
    "    cross_val_score(neural_network, x_test, y_test, cv=3, scoring='accuracy').mean(), \n",
    "    cross_val_score(svm, x_test, y_test, cv=3, scoring='accuracy').mean(), \n",
    "    cross_val_score(random_forest, x_test, y_test, cv=3, scoring='accuracy').mean(), \n",
    "]\n",
    "\n",
    "print(scores)"
   ]
  },
  {
   "cell_type": "code",
   "execution_count": 99,
   "metadata": {},
   "outputs": [],
   "source": [
    "confusion_matrix_list = [\n",
    "    (confusion_matrix(y_test, log_reg_pred), 'Logistic Regression'),\n",
    "    (confusion_matrix(y_test, neural_network_pred), 'Neural Network'),\n",
    "    (confusion_matrix(y_test, svm_pred), 'SVM'),\n",
    "    (confusion_matrix(y_test, random_forest_pred), 'Random Forest'),\n",
    "]"
   ]
  },
  {
   "cell_type": "code",
   "execution_count": 100,
   "metadata": {},
   "outputs": [
    {
     "data": {
      "image/png": "[encoded data removed]",
      "text/plain": [
       "<Figure size 1440x720 with 8 Axes>"
      ]
     },
     "metadata": {
      "needs_background": "light"
     },
     "output_type": "display_data"
    }
   ],
   "source": [
    "%matplotlib inline\n",
    "fig, axs = plt.subplots(2,2, figsize=(20,10))\n",
    "for i, ax in enumerate(axs.flat):\n",
    "    cf, name = confusion_matrix_list[i]\n",
    "    sns.heatmap(cf, fmt='d', annot=True, ax=ax)\n",
    "    ax.set(ylabel='True values')\n",
    "    ax.set(xlabel='Predicted values')\n",
    "    ax.set(title=f'{name}')"
   ]
  },
  {
   "cell_type": "markdown",
   "metadata": {},
   "source": [
    "### Which type of flower gets the best results?\n",
    "The type of flower which gets the best results was bird of paradise. This is because is the most common flower in the data set.\n",
    "\n",
    "### Which flower was the most difficult to classify?\n",
    "The type of flower that was the most difficult to classify was canterbury bells.\n",
    "\n",
    "### Which model gets the best results?\n",
    "The model with the best results was the Logistic Regression model.\n",
    "\n",
    "### How do you think we can improve the obtained results?\n",
    "We can improve the obtained results using features that are more correlationed features.\n",
    "\n",
    "### how differents the results are between the training set and the test set?\n",
    "The training set gets better results than the test set."
   ]
  }
 ],
 "metadata": {
  "interpreter": {
   "hash": "33c47731e5c0269a930bc35e3b09cbb029a43ec2f78276dd74258da08c7305d6"
  },
  "kernelspec": {
   "display_name": "Python 3.9.1 ('venv': venv)",
   "language": "python",
   "name": "python3"
  },
  "language_info": {
   "codemirror_mode": {
    "name": "ipython",
    "version": 3
   },
   "file_extension": ".py",
   "mimetype": "text/x-python",
   "name": "python",
   "nbconvert_exporter": "python",
   "pygments_lexer": "ipython3",
   "version": "3.9.1"
  },
  "orig_nbformat": 4
 },
 "nbformat": 4,
 "nbformat_minor": 2
}
