{
 "cells": [
  {
   "cell_type": "markdown",
   "metadata": {},
   "source": [
    "# 3. Bouquet Flower Classification"
   ]
  },
  {
   "cell_type": "markdown",
   "metadata": {},
   "source": [
    "## Objectives \n",
    "* Build or get a data set of image files of bouquet flowers. It must contain at least 10 categories of flowers and 25 images for each category.\n",
    "* Generate the training data\n",
    "    * Using Orange, generate the Image Embeddings por each dataset with Inception V3.\n",
    "    * Save the Image Embeddings and use them in a Jupyter notebook.\n",
    "* Try at least 2 features for each one pf the following classifiers:\n",
    "    * Logistic Regression\n",
    "    * Neural Networks\n",
    "    * SVM\n",
    "    * Random Forest\n",
    "* Mesaure the performance of the models, get and analize the confusion matrix."
   ]
  },
  {
   "cell_type": "code",
   "execution_count": 1,
   "metadata": {},
   "outputs": [],
   "source": [
    "import pandas as pd\n",
    "import numpy as np\n",
    "import seaborn as sns\n",
    "import matplotlib.pyplot as plt"
   ]
  },
  {
   "cell_type": "markdown",
   "metadata": {},
   "source": [
    "## Read Data"
   ]
  },
  {
   "cell_type": "code",
   "execution_count": 2,
   "metadata": {},
   "outputs": [],
   "source": [
    "df = pd.read_csv('./dataset.csv')"
   ]
  },
  {
   "cell_type": "code",
   "execution_count": 3,
   "metadata": {},
   "outputs": [],
   "source": [
    "#Get the categories dictionary\n",
    "from json import load\n",
    "with open('./data/cat_to_name.json') as f:\n",
    "    dictionary = load(f)"
   ]
  },
  {
   "cell_type": "markdown",
   "metadata": {},
   "source": [
    "## Data Preprocessing"
   ]
  },
  {
   "cell_type": "markdown",
   "metadata": {},
   "source": [
    "In the following block, it shows all the information about the dataset. Explaining a little, the nfeature is the result of the image embedding algorithm, and category is the target. The others features are the metadata of the image."
   ]
  },
  {
   "cell_type": "code",
   "execution_count": 4,
   "metadata": {},
   "outputs": [
    {
     "data": {
      "text/html": [
       "<div>\n",
       "<style scoped>\n",
       "    .dataframe tbody tr th:only-of-type {\n",
       "        vertical-align: middle;\n",
       "    }\n",
       "\n",
       "    .dataframe tbody tr th {\n",
       "        vertical-align: top;\n",
       "    }\n",
       "\n",
       "    .dataframe thead th {\n",
       "        text-align: right;\n",
       "    }\n",
       "</style>\n",
       "<table border=\"1\" class=\"dataframe\">\n",
       "  <thead>\n",
       "    <tr style=\"text-align: right;\">\n",
       "      <th></th>\n",
       "      <th>id</th>\n",
       "      <th>n0</th>\n",
       "      <th>n1</th>\n",
       "      <th>n2</th>\n",
       "      <th>n3</th>\n",
       "      <th>n4</th>\n",
       "      <th>n5</th>\n",
       "      <th>n6</th>\n",
       "      <th>n7</th>\n",
       "      <th>n8</th>\n",
       "      <th>...</th>\n",
       "      <th>n2042</th>\n",
       "      <th>n2043</th>\n",
       "      <th>n2044</th>\n",
       "      <th>n2045</th>\n",
       "      <th>n2046</th>\n",
       "      <th>n2047</th>\n",
       "      <th>category</th>\n",
       "      <th>size</th>\n",
       "      <th>width</th>\n",
       "      <th>height</th>\n",
       "    </tr>\n",
       "  </thead>\n",
       "  <tbody>\n",
       "    <tr>\n",
       "      <th>count</th>\n",
       "      <td>427.000000</td>\n",
       "      <td>427.000000</td>\n",
       "      <td>427.000000</td>\n",
       "      <td>427.000000</td>\n",
       "      <td>427.000000</td>\n",
       "      <td>427.000000</td>\n",
       "      <td>427.000000</td>\n",
       "      <td>427.000000</td>\n",
       "      <td>427.000000</td>\n",
       "      <td>427.000000</td>\n",
       "      <td>...</td>\n",
       "      <td>427.000000</td>\n",
       "      <td>427.000000</td>\n",
       "      <td>427.000000</td>\n",
       "      <td>427.000000</td>\n",
       "      <td>427.000000</td>\n",
       "      <td>427.000000</td>\n",
       "      <td>427.000000</td>\n",
       "      <td>427.000000</td>\n",
       "      <td>427.000000</td>\n",
       "      <td>427.000000</td>\n",
       "    </tr>\n",
       "    <tr>\n",
       "      <th>mean</th>\n",
       "      <td>2591.934426</td>\n",
       "      <td>0.123907</td>\n",
       "      <td>0.296530</td>\n",
       "      <td>0.706586</td>\n",
       "      <td>0.423048</td>\n",
       "      <td>0.429640</td>\n",
       "      <td>0.231649</td>\n",
       "      <td>0.158231</td>\n",
       "      <td>0.486937</td>\n",
       "      <td>0.137223</td>\n",
       "      <td>...</td>\n",
       "      <td>0.209298</td>\n",
       "      <td>0.382003</td>\n",
       "      <td>0.841799</td>\n",
       "      <td>0.225658</td>\n",
       "      <td>0.419648</td>\n",
       "      <td>0.392623</td>\n",
       "      <td>5.688525</td>\n",
       "      <td>41176.189696</td>\n",
       "      <td>594.259953</td>\n",
       "      <td>562.072600</td>\n",
       "    </tr>\n",
       "    <tr>\n",
       "      <th>std</th>\n",
       "      <td>1934.192456</td>\n",
       "      <td>0.135906</td>\n",
       "      <td>0.357501</td>\n",
       "      <td>0.523713</td>\n",
       "      <td>0.328542</td>\n",
       "      <td>0.342191</td>\n",
       "      <td>0.180200</td>\n",
       "      <td>0.146348</td>\n",
       "      <td>0.318460</td>\n",
       "      <td>0.137656</td>\n",
       "      <td>...</td>\n",
       "      <td>0.205524</td>\n",
       "      <td>0.383193</td>\n",
       "      <td>0.736157</td>\n",
       "      <td>0.224748</td>\n",
       "      <td>0.344902</td>\n",
       "      <td>0.331344</td>\n",
       "      <td>2.766998</td>\n",
       "      <td>12408.781580</td>\n",
       "      <td>95.112660</td>\n",
       "      <td>93.095901</td>\n",
       "    </tr>\n",
       "    <tr>\n",
       "      <th>min</th>\n",
       "      <td>0.000000</td>\n",
       "      <td>0.000000</td>\n",
       "      <td>0.000000</td>\n",
       "      <td>0.009525</td>\n",
       "      <td>0.000691</td>\n",
       "      <td>0.004887</td>\n",
       "      <td>0.003033</td>\n",
       "      <td>0.000644</td>\n",
       "      <td>0.000592</td>\n",
       "      <td>0.000000</td>\n",
       "      <td>...</td>\n",
       "      <td>0.000000</td>\n",
       "      <td>0.000000</td>\n",
       "      <td>0.000000</td>\n",
       "      <td>0.000000</td>\n",
       "      <td>0.000000</td>\n",
       "      <td>0.000000</td>\n",
       "      <td>1.000000</td>\n",
       "      <td>15537.000000</td>\n",
       "      <td>500.000000</td>\n",
       "      <td>500.000000</td>\n",
       "    </tr>\n",
       "    <tr>\n",
       "      <th>25%</th>\n",
       "      <td>686.500000</td>\n",
       "      <td>0.035596</td>\n",
       "      <td>0.048361</td>\n",
       "      <td>0.334935</td>\n",
       "      <td>0.170172</td>\n",
       "      <td>0.178533</td>\n",
       "      <td>0.097971</td>\n",
       "      <td>0.052761</td>\n",
       "      <td>0.250965</td>\n",
       "      <td>0.038579</td>\n",
       "      <td>...</td>\n",
       "      <td>0.043547</td>\n",
       "      <td>0.121556</td>\n",
       "      <td>0.277776</td>\n",
       "      <td>0.059730</td>\n",
       "      <td>0.164968</td>\n",
       "      <td>0.129059</td>\n",
       "      <td>3.000000</td>\n",
       "      <td>33126.500000</td>\n",
       "      <td>500.000000</td>\n",
       "      <td>500.000000</td>\n",
       "    </tr>\n",
       "    <tr>\n",
       "      <th>50%</th>\n",
       "      <td>2434.000000</td>\n",
       "      <td>0.079397</td>\n",
       "      <td>0.140451</td>\n",
       "      <td>0.596198</td>\n",
       "      <td>0.346462</td>\n",
       "      <td>0.337732</td>\n",
       "      <td>0.189693</td>\n",
       "      <td>0.118017</td>\n",
       "      <td>0.408534</td>\n",
       "      <td>0.092604</td>\n",
       "      <td>...</td>\n",
       "      <td>0.156200</td>\n",
       "      <td>0.253251</td>\n",
       "      <td>0.608361</td>\n",
       "      <td>0.156220</td>\n",
       "      <td>0.334962</td>\n",
       "      <td>0.312468</td>\n",
       "      <td>6.000000</td>\n",
       "      <td>39450.000000</td>\n",
       "      <td>587.000000</td>\n",
       "      <td>500.000000</td>\n",
       "    </tr>\n",
       "    <tr>\n",
       "      <th>75%</th>\n",
       "      <td>4870.500000</td>\n",
       "      <td>0.164688</td>\n",
       "      <td>0.414406</td>\n",
       "      <td>0.980846</td>\n",
       "      <td>0.620304</td>\n",
       "      <td>0.587902</td>\n",
       "      <td>0.322227</td>\n",
       "      <td>0.234049</td>\n",
       "      <td>0.668371</td>\n",
       "      <td>0.196230</td>\n",
       "      <td>...</td>\n",
       "      <td>0.308337</td>\n",
       "      <td>0.544424</td>\n",
       "      <td>1.264653</td>\n",
       "      <td>0.328793</td>\n",
       "      <td>0.604486</td>\n",
       "      <td>0.577325</td>\n",
       "      <td>8.000000</td>\n",
       "      <td>47660.000000</td>\n",
       "      <td>667.000000</td>\n",
       "      <td>625.000000</td>\n",
       "    </tr>\n",
       "    <tr>\n",
       "      <th>max</th>\n",
       "      <td>5862.000000</td>\n",
       "      <td>0.865708</td>\n",
       "      <td>1.968339</td>\n",
       "      <td>3.007994</td>\n",
       "      <td>1.787014</td>\n",
       "      <td>1.682581</td>\n",
       "      <td>0.969356</td>\n",
       "      <td>1.323634</td>\n",
       "      <td>1.633848</td>\n",
       "      <td>0.857329</td>\n",
       "      <td>...</td>\n",
       "      <td>0.952524</td>\n",
       "      <td>2.100790</td>\n",
       "      <td>3.332155</td>\n",
       "      <td>1.556095</td>\n",
       "      <td>2.032899</td>\n",
       "      <td>1.635965</td>\n",
       "      <td>10.000000</td>\n",
       "      <td>100863.000000</td>\n",
       "      <td>845.000000</td>\n",
       "      <td>928.000000</td>\n",
       "    </tr>\n",
       "  </tbody>\n",
       "</table>\n",
       "<p>8 rows × 2053 columns</p>\n",
       "</div>"
      ],
      "text/plain": [
       "                id          n0          n1          n2          n3  \\\n",
       "count   427.000000  427.000000  427.000000  427.000000  427.000000   \n",
       "mean   2591.934426    0.123907    0.296530    0.706586    0.423048   \n",
       "std    1934.192456    0.135906    0.357501    0.523713    0.328542   \n",
       "min       0.000000    0.000000    0.000000    0.009525    0.000691   \n",
       "25%     686.500000    0.035596    0.048361    0.334935    0.170172   \n",
       "50%    2434.000000    0.079397    0.140451    0.596198    0.346462   \n",
       "75%    4870.500000    0.164688    0.414406    0.980846    0.620304   \n",
       "max    5862.000000    0.865708    1.968339    3.007994    1.787014   \n",
       "\n",
       "               n4          n5          n6          n7          n8  ...  \\\n",
       "count  427.000000  427.000000  427.000000  427.000000  427.000000  ...   \n",
       "mean     0.429640    0.231649    0.158231    0.486937    0.137223  ...   \n",
       "std      0.342191    0.180200    0.146348    0.318460    0.137656  ...   \n",
       "min      0.004887    0.003033    0.000644    0.000592    0.000000  ...   \n",
       "25%      0.178533    0.097971    0.052761    0.250965    0.038579  ...   \n",
       "50%      0.337732    0.189693    0.118017    0.408534    0.092604  ...   \n",
       "75%      0.587902    0.322227    0.234049    0.668371    0.196230  ...   \n",
       "max      1.682581    0.969356    1.323634    1.633848    0.857329  ...   \n",
       "\n",
       "            n2042       n2043       n2044       n2045       n2046       n2047  \\\n",
       "count  427.000000  427.000000  427.000000  427.000000  427.000000  427.000000   \n",
       "mean     0.209298    0.382003    0.841799    0.225658    0.419648    0.392623   \n",
       "std      0.205524    0.383193    0.736157    0.224748    0.344902    0.331344   \n",
       "min      0.000000    0.000000    0.000000    0.000000    0.000000    0.000000   \n",
       "25%      0.043547    0.121556    0.277776    0.059730    0.164968    0.129059   \n",
       "50%      0.156200    0.253251    0.608361    0.156220    0.334962    0.312468   \n",
       "75%      0.308337    0.544424    1.264653    0.328793    0.604486    0.577325   \n",
       "max      0.952524    2.100790    3.332155    1.556095    2.032899    1.635965   \n",
       "\n",
       "         category           size       width      height  \n",
       "count  427.000000     427.000000  427.000000  427.000000  \n",
       "mean     5.688525   41176.189696  594.259953  562.072600  \n",
       "std      2.766998   12408.781580   95.112660   93.095901  \n",
       "min      1.000000   15537.000000  500.000000  500.000000  \n",
       "25%      3.000000   33126.500000  500.000000  500.000000  \n",
       "50%      6.000000   39450.000000  587.000000  500.000000  \n",
       "75%      8.000000   47660.000000  667.000000  625.000000  \n",
       "max     10.000000  100863.000000  845.000000  928.000000  \n",
       "\n",
       "[8 rows x 2053 columns]"
      ]
     },
     "execution_count": 4,
     "metadata": {},
     "output_type": "execute_result"
    }
   ],
   "source": [
    "df.describe()"
   ]
  },
  {
   "cell_type": "code",
   "execution_count": 5,
   "metadata": {},
   "outputs": [],
   "source": [
    "#Change the keys, from string to int\n",
    "dictionary = { int(k): v for k, v in dictionary.items() }"
   ]
  },
  {
   "cell_type": "code",
   "execution_count": 6,
   "metadata": {},
   "outputs": [
    {
     "name": "stdout",
     "output_type": "stream",
     "text": [
      "Categories:\n",
      "1: pink primrose\n",
      "10: globe thistle\n",
      "2: hard-leaved pocket orchid\n",
      "3: canterbury bells\n",
      "4: sweet pea\n",
      "5: english marigold\n",
      "6: tiger lily\n",
      "7: moon orchid\n",
      "8: bird of paradise\n",
      "9: monkshood\n"
     ]
    }
   ],
   "source": [
    "#To know which flowers we have\n",
    "print('Categories:')\n",
    "keys = df.category.unique()\n",
    "for k in keys:\n",
    "    print(f'{k}: {dictionary[k]}')"
   ]
  },
  {
   "cell_type": "code",
   "execution_count": 7,
   "metadata": {},
   "outputs": [],
   "source": [
    "#Separate our possible features from the target\n",
    "X, y = df.drop(['category', 'size', 'width', 'height', 'image name', 'image', 'id'], axis=1), df['category']"
   ]
  },
  {
   "cell_type": "code",
   "execution_count": 8,
   "metadata": {},
   "outputs": [],
   "source": [
    "#For selecting the best features, will use the next utilities from sklearn\n",
    "from sklearn.feature_selection import SelectKBest, chi2\n",
    "best_features = SelectKBest(chi2, k=10).fit(X, y)"
   ]
  },
  {
   "cell_type": "code",
   "execution_count": 9,
   "metadata": {},
   "outputs": [
    {
     "name": "stdout",
     "output_type": "stream",
     "text": [
      "      Specs       Score\n",
      "905    n905  355.705863\n",
      "575    n575  255.663244\n",
      "937    n937  235.079152\n",
      "1161  n1161  216.241980\n",
      "901    n901  214.548363\n",
      "942    n942  201.386487\n",
      "460    n460  185.586139\n",
      "1637  n1637  176.106703\n",
      "79      n79  174.974925\n",
      "418    n418  173.187646\n"
     ]
    }
   ],
   "source": [
    "#I will creating a new df with all the features and correlations with the target\n",
    "n_features = 10\n",
    "df_scores = pd.DataFrame(best_features.scores_)\n",
    "df_columns = pd.DataFrame(X.columns)\n",
    "\n",
    "#concat\n",
    "feature_scores = pd.concat([df_columns, df_scores], axis=1)\n",
    "feature_scores.columns = ['Specs', 'Score']\n",
    "\n",
    "features_to_use = list(feature_scores.nlargest(n_features, 'Score').Specs)\n",
    "print(feature_scores.nlargest(n_features, 'Score'))"
   ]
  },
  {
   "cell_type": "code",
   "execution_count": 10,
   "metadata": {},
   "outputs": [
    {
     "data": {
      "text/plain": [
       "<AxesSubplot:>"
      ]
     },
     "execution_count": 10,
     "metadata": {},
     "output_type": "execute_result"
    },
    {
     "data": {
      "image/png": "[encoded data removed]",
      "text/plain": [
       "<Figure size 1440x720 with 2 Axes>"
      ]
     },
     "metadata": {},
     "output_type": "display_data"
    }
   ],
   "source": [
    "#To know how correleated are the features with the categories\n",
    "%matplotlib inline\n",
    "sns.set(rc={'figure.figsize':(20,10)})\n",
    "sns.heatmap(df[features_to_use + ['category']].corr(), annot=True)"
   ]
  },
  {
   "cell_type": "markdown",
   "metadata": {},
   "source": [
    "As we can see, there is not too much correlationship between category and all the features, been bellow the 0.5 of correlation. However, there is a set of features strong correlated, so, it can be useful for the models."
   ]
  },
  {
   "cell_type": "code",
   "execution_count": 11,
   "metadata": {},
   "outputs": [],
   "source": [
    "#I'll separate the X from the selected features\n",
    "x = X[features_to_use]"
   ]
  },
  {
   "cell_type": "code",
   "execution_count": 12,
   "metadata": {},
   "outputs": [],
   "source": [
    "from sklearn.model_selection import train_test_split\n",
    "x_train, x_test, y_train, y_test = train_test_split(x, y, test_size=0.2)"
   ]
  },
  {
   "cell_type": "code",
   "execution_count": 13,
   "metadata": {},
   "outputs": [],
   "source": [
    "#For logistic regression, it is necessary to normalize \n",
    "from sklearn.preprocessing import StandardScaler\n",
    "standard_scaler = StandardScaler()\n",
    "x_train_scaled = standard_scaler.fit_transform(x_train, y_train)\n",
    "x_test_scaled = standard_scaler.fit_transform(x_test, y_test)"
   ]
  },
  {
   "cell_type": "markdown",
   "metadata": {},
   "source": [
    "## Model Creation"
   ]
  },
  {
   "cell_type": "code",
   "execution_count": 16,
   "metadata": {},
   "outputs": [],
   "source": [
    "\"\"\"Logistic Regression\"\"\"\n",
    "from sklearn.linear_model import LogisticRegression\n",
    "log_reg = LogisticRegression()"
   ]
  },
  {
   "cell_type": "code",
   "execution_count": 25,
   "metadata": {},
   "outputs": [],
   "source": [
    "\"\"\"Neural networks\"\"\"\n",
    "from sklearn.neural_network import MLPClassifier\n",
    "neural_network = MLPClassifier(max_iter=500, solver='lbfgs')"
   ]
  },
  {
   "cell_type": "code",
   "execution_count": 18,
   "metadata": {},
   "outputs": [],
   "source": [
    "\"\"\"SVM\"\"\"\n",
    "from sklearn.svm import SVC\n",
    "svm = SVC()"
   ]
  },
  {
   "cell_type": "code",
   "execution_count": 20,
   "metadata": {},
   "outputs": [],
   "source": [
    "\"\"\"Random Forest\"\"\"\n",
    "from sklearn.ensemble import RandomForestClassifier\n",
    "random_forest = RandomForestClassifier()"
   ]
  },
  {
   "cell_type": "markdown",
   "metadata": {},
   "source": [
    "## Adjust Model with Historic Data"
   ]
  },
  {
   "cell_type": "code",
   "execution_count": 26,
   "metadata": {},
   "outputs": [
    {
     "data": {
      "text/plain": [
       "LogisticRegression()"
      ]
     },
     "execution_count": 26,
     "metadata": {},
     "output_type": "execute_result"
    }
   ],
   "source": [
    "\"\"\"Logistic Regression\"\"\"\n",
    "log_reg.fit(x_train_scaled, y_train)"
   ]
  },
  {
   "cell_type": "code",
   "execution_count": 27,
   "metadata": {},
   "outputs": [
    {
     "data": {
      "text/plain": [
       "MLPClassifier(max_iter=500, solver='lbfgs')"
      ]
     },
     "execution_count": 27,
     "metadata": {},
     "output_type": "execute_result"
    }
   ],
   "source": [
    "\"\"\"Neural network\"\"\"\n",
    "neural_network.fit(x_train, y_train)"
   ]
  },
  {
   "cell_type": "code",
   "execution_count": 28,
   "metadata": {},
   "outputs": [
    {
     "data": {
      "text/plain": [
       "SVC()"
      ]
     },
     "execution_count": 28,
     "metadata": {},
     "output_type": "execute_result"
    }
   ],
   "source": [
    "\"\"\"SVM\"\"\"\n",
    "svm.fit(x_train, y_train)"
   ]
  },
  {
   "cell_type": "code",
   "execution_count": 29,
   "metadata": {},
   "outputs": [
    {
     "data": {
      "text/plain": [
       "RandomForestClassifier()"
      ]
     },
     "execution_count": 29,
     "metadata": {},
     "output_type": "execute_result"
    }
   ],
   "source": [
    "random_forest.fit(x_train, y_train)"
   ]
  }
 ],
 "metadata": {
  "interpreter": {
   "hash": "33c47731e5c0269a930bc35e3b09cbb029a43ec2f78276dd74258da08c7305d6"
  },
  "kernelspec": {
   "display_name": "Python 3.9.1 ('venv': venv)",
   "language": "python",
   "name": "python3"
  },
  "language_info": {
   "codemirror_mode": {
    "name": "ipython",
    "version": 3
   },
   "file_extension": ".py",
   "mimetype": "text/x-python",
   "name": "python",
   "nbconvert_exporter": "python",
   "pygments_lexer": "ipython3",
   "version": "3.9.1"
  },
  "orig_nbformat": 4
 },
 "nbformat": 4,
 "nbformat_minor": 2
}
